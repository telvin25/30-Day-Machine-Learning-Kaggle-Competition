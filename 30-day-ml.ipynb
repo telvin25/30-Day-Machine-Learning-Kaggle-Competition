{
 "cells": [
  {
   "cell_type": "markdown",
   "id": "11eb3e3a",
   "metadata": {},
   "source": [
    "# Description"
   ]
  },
  {
   "cell_type": "markdown",
   "id": "8232e553",
   "metadata": {
    "papermill": {
     "duration": 0.048869,
     "end_time": "2021-08-23T21:23:47.409288",
     "exception": false,
     "start_time": "2021-08-23T21:23:47.360419",
     "status": "completed"
    },
    "tags": []
   },
   "source": [
    "\n",
    "The dataset is used for this competition is synthetic, but based on a real dataset. The original dataset deals with predicting the amount of an insurance claim. Although the features are anonymized, they have properties relating to real-world features."
   ]
  },
  {
   "cell_type": "code",
   "execution_count": 1,
   "id": "a7241676",
   "metadata": {
    "execution": {
     "iopub.execute_input": "2021-08-23T21:23:47.512418Z",
     "iopub.status.busy": "2021-08-23T21:23:47.510923Z",
     "iopub.status.idle": "2021-08-23T21:23:54.976092Z",
     "shell.execute_reply": "2021-08-23T21:23:54.976678Z",
     "shell.execute_reply.started": "2021-08-23T20:29:27.408327Z"
    },
    "papermill": {
     "duration": 7.518984,
     "end_time": "2021-08-23T21:23:54.977009",
     "exception": false,
     "start_time": "2021-08-23T21:23:47.458025",
     "status": "completed"
    },
    "tags": []
   },
   "outputs": [
    {
     "name": "stdout",
     "output_type": "stream",
     "text": [
      "Requirement already satisfied: opendatasets in c:\\users\\telvin\\anaconda3\\lib\\site-packages (0.1.20)\n",
      "Requirement already satisfied: tqdm in c:\\users\\telvin\\anaconda3\\lib\\site-packages (from opendatasets) (4.59.0)\n",
      "Requirement already satisfied: kaggle in c:\\users\\telvin\\anaconda3\\lib\\site-packages (from opendatasets) (1.5.12)\n",
      "Requirement already satisfied: click in c:\\users\\telvin\\anaconda3\\lib\\site-packages (from opendatasets) (7.1.2)\n",
      "Requirement already satisfied: six>=1.10 in c:\\users\\telvin\\anaconda3\\lib\\site-packages (from kaggle->opendatasets) (1.15.0)\n",
      "Requirement already satisfied: certifi in c:\\users\\telvin\\anaconda3\\lib\\site-packages (from kaggle->opendatasets) (2020.12.5)\n",
      "Requirement already satisfied: python-dateutil in c:\\users\\telvin\\anaconda3\\lib\\site-packages (from kaggle->opendatasets) (2.8.1)\n",
      "Requirement already satisfied: python-slugify in c:\\users\\telvin\\anaconda3\\lib\\site-packages (from kaggle->opendatasets) (5.0.2)\n",
      "Requirement already satisfied: urllib3 in c:\\users\\telvin\\anaconda3\\lib\\site-packages (from kaggle->opendatasets) (1.26.4)\n",
      "Requirement already satisfied: requests in c:\\users\\telvin\\anaconda3\\lib\\site-packages (from kaggle->opendatasets) (2.25.1)\n",
      "Requirement already satisfied: text-unidecode>=1.3 in c:\\users\\telvin\\anaconda3\\lib\\site-packages (from python-slugify->kaggle->opendatasets) (1.3)\n",
      "Requirement already satisfied: idna<3,>=2.5 in c:\\users\\telvin\\anaconda3\\lib\\site-packages (from requests->kaggle->opendatasets) (2.10)\n",
      "Requirement already satisfied: chardet<5,>=3.0.2 in c:\\users\\telvin\\anaconda3\\lib\\site-packages (from requests->kaggle->opendatasets) (4.0.0)\n",
      "Note: you may need to restart the kernel to use updated packages.\n"
     ]
    }
   ],
   "source": [
    "pip install opendatasets"
   ]
  },
  {
   "cell_type": "code",
   "execution_count": 1,
   "id": "76dbd600",
   "metadata": {
    "execution": {
     "iopub.execute_input": "2021-08-23T21:23:55.084937Z",
     "iopub.status.busy": "2021-08-23T21:23:55.084177Z",
     "iopub.status.idle": "2021-08-23T21:23:55.183391Z",
     "shell.execute_reply": "2021-08-23T21:23:55.182890Z",
     "shell.execute_reply.started": "2021-08-23T20:29:34.132679Z"
    },
    "papermill": {
     "duration": 0.154337,
     "end_time": "2021-08-23T21:23:55.183509",
     "exception": false,
     "start_time": "2021-08-23T21:23:55.029172",
     "status": "completed"
    },
    "tags": []
   },
   "outputs": [],
   "source": [
    "import opendatasets as od\n",
    "import os"
   ]
  },
  {
   "cell_type": "code",
   "execution_count": 2,
   "id": "8a282b70",
   "metadata": {
    "execution": {
     "iopub.execute_input": "2021-08-23T21:23:55.290360Z",
     "iopub.status.busy": "2021-08-23T21:23:55.289771Z",
     "iopub.status.idle": "2021-08-23T21:23:55.355372Z",
     "shell.execute_reply": "2021-08-23T21:23:55.354838Z",
     "shell.execute_reply.started": "2021-08-23T20:29:34.140271Z"
    },
    "papermill": {
     "duration": 0.120872,
     "end_time": "2021-08-23T21:23:55.355593",
     "exception": true,
     "start_time": "2021-08-23T21:23:55.234721",
     "status": "failed"
    },
    "tags": []
   },
   "outputs": [
    {
     "name": "stdout",
     "output_type": "stream",
     "text": [
      "Skipping, found downloaded files in \".\\30-days-of-ml\" (use force=True to force download)\n"
     ]
    }
   ],
   "source": [
    "od.download(\"https://www.kaggle.com/c/30-days-of-ml/data\")"
   ]
  },
  {
   "cell_type": "code",
   "execution_count": 3,
   "id": "76c51419",
   "metadata": {
    "execution": {
     "iopub.execute_input": "2021-08-23T20:29:34.150642Z",
     "iopub.status.busy": "2021-08-23T20:29:34.150252Z",
     "iopub.status.idle": "2021-08-23T20:29:34.159697Z",
     "shell.execute_reply": "2021-08-23T20:29:34.158744Z",
     "shell.execute_reply.started": "2021-08-23T20:29:34.150600Z"
    },
    "papermill": {
     "duration": null,
     "end_time": null,
     "exception": null,
     "start_time": null,
     "status": "pending"
    },
    "tags": []
   },
   "outputs": [
    {
     "data": {
      "text/plain": [
       "['sample_submission.csv', 'test.csv', 'train.csv']"
      ]
     },
     "execution_count": 3,
     "metadata": {},
     "output_type": "execute_result"
    }
   ],
   "source": [
    "os.listdir(\"30-days-of-ml\")"
   ]
  },
  {
   "cell_type": "code",
   "execution_count": 4,
   "id": "c144d3e7",
   "metadata": {
    "execution": {
     "iopub.execute_input": "2021-08-23T20:29:34.161450Z",
     "iopub.status.busy": "2021-08-23T20:29:34.161049Z",
     "iopub.status.idle": "2021-08-23T20:29:34.167859Z",
     "shell.execute_reply": "2021-08-23T20:29:34.167081Z",
     "shell.execute_reply.started": "2021-08-23T20:29:34.161418Z"
    },
    "papermill": {
     "duration": null,
     "end_time": null,
     "exception": null,
     "start_time": null,
     "status": "pending"
    },
    "tags": []
   },
   "outputs": [],
   "source": [
    "import pandas as pd"
   ]
  },
  {
   "cell_type": "code",
   "execution_count": 5,
   "id": "8ee3cea5",
   "metadata": {
    "execution": {
     "iopub.execute_input": "2021-08-23T20:29:34.169733Z",
     "iopub.status.busy": "2021-08-23T20:29:34.169118Z",
     "iopub.status.idle": "2021-08-23T20:29:35.204472Z",
     "shell.execute_reply": "2021-08-23T20:29:35.203518Z",
     "shell.execute_reply.started": "2021-08-23T20:29:34.169699Z"
    },
    "papermill": {
     "duration": null,
     "end_time": null,
     "exception": null,
     "start_time": null,
     "status": "pending"
    },
    "tags": []
   },
   "outputs": [],
   "source": [
    "train = pd.read_csv('30-days-of-ml/train.csv', error_bad_lines = False)"
   ]
  },
  {
   "cell_type": "code",
   "execution_count": 6,
   "id": "80c94daf",
   "metadata": {
    "execution": {
     "iopub.execute_input": "2021-08-23T20:29:35.206440Z",
     "iopub.status.busy": "2021-08-23T20:29:35.205872Z",
     "iopub.status.idle": "2021-08-23T20:29:35.360395Z",
     "shell.execute_reply": "2021-08-23T20:29:35.359422Z",
     "shell.execute_reply.started": "2021-08-23T20:29:35.206404Z"
    },
    "papermill": {
     "duration": null,
     "end_time": null,
     "exception": null,
     "start_time": null,
     "status": "pending"
    },
    "tags": []
   },
   "outputs": [
    {
     "data": {
      "text/html": [
       "<div>\n",
       "<style scoped>\n",
       "    .dataframe tbody tr th:only-of-type {\n",
       "        vertical-align: middle;\n",
       "    }\n",
       "\n",
       "    .dataframe tbody tr th {\n",
       "        vertical-align: top;\n",
       "    }\n",
       "\n",
       "    .dataframe thead th {\n",
       "        text-align: right;\n",
       "    }\n",
       "</style>\n",
       "<table border=\"1\" class=\"dataframe\">\n",
       "  <thead>\n",
       "    <tr style=\"text-align: right;\">\n",
       "      <th></th>\n",
       "      <th>id</th>\n",
       "      <th>cat0</th>\n",
       "      <th>cat1</th>\n",
       "      <th>cat2</th>\n",
       "      <th>cat3</th>\n",
       "      <th>cat4</th>\n",
       "      <th>cat5</th>\n",
       "      <th>cat6</th>\n",
       "      <th>cat7</th>\n",
       "      <th>cat8</th>\n",
       "      <th>...</th>\n",
       "      <th>cont5</th>\n",
       "      <th>cont6</th>\n",
       "      <th>cont7</th>\n",
       "      <th>cont8</th>\n",
       "      <th>cont9</th>\n",
       "      <th>cont10</th>\n",
       "      <th>cont11</th>\n",
       "      <th>cont12</th>\n",
       "      <th>cont13</th>\n",
       "      <th>target</th>\n",
       "    </tr>\n",
       "  </thead>\n",
       "  <tbody>\n",
       "    <tr>\n",
       "      <th>0</th>\n",
       "      <td>1</td>\n",
       "      <td>B</td>\n",
       "      <td>B</td>\n",
       "      <td>B</td>\n",
       "      <td>C</td>\n",
       "      <td>B</td>\n",
       "      <td>B</td>\n",
       "      <td>A</td>\n",
       "      <td>E</td>\n",
       "      <td>C</td>\n",
       "      <td>...</td>\n",
       "      <td>0.400361</td>\n",
       "      <td>0.160266</td>\n",
       "      <td>0.310921</td>\n",
       "      <td>0.389470</td>\n",
       "      <td>0.267559</td>\n",
       "      <td>0.237281</td>\n",
       "      <td>0.377873</td>\n",
       "      <td>0.322401</td>\n",
       "      <td>0.869850</td>\n",
       "      <td>8.113634</td>\n",
       "    </tr>\n",
       "    <tr>\n",
       "      <th>1</th>\n",
       "      <td>2</td>\n",
       "      <td>B</td>\n",
       "      <td>B</td>\n",
       "      <td>A</td>\n",
       "      <td>A</td>\n",
       "      <td>B</td>\n",
       "      <td>D</td>\n",
       "      <td>A</td>\n",
       "      <td>F</td>\n",
       "      <td>A</td>\n",
       "      <td>...</td>\n",
       "      <td>0.533087</td>\n",
       "      <td>0.558922</td>\n",
       "      <td>0.516294</td>\n",
       "      <td>0.594928</td>\n",
       "      <td>0.341439</td>\n",
       "      <td>0.906013</td>\n",
       "      <td>0.921701</td>\n",
       "      <td>0.261975</td>\n",
       "      <td>0.465083</td>\n",
       "      <td>8.481233</td>\n",
       "    </tr>\n",
       "    <tr>\n",
       "      <th>2</th>\n",
       "      <td>3</td>\n",
       "      <td>A</td>\n",
       "      <td>A</td>\n",
       "      <td>A</td>\n",
       "      <td>C</td>\n",
       "      <td>B</td>\n",
       "      <td>D</td>\n",
       "      <td>A</td>\n",
       "      <td>D</td>\n",
       "      <td>A</td>\n",
       "      <td>...</td>\n",
       "      <td>0.650609</td>\n",
       "      <td>0.375348</td>\n",
       "      <td>0.902567</td>\n",
       "      <td>0.555205</td>\n",
       "      <td>0.843531</td>\n",
       "      <td>0.748809</td>\n",
       "      <td>0.620126</td>\n",
       "      <td>0.541474</td>\n",
       "      <td>0.763846</td>\n",
       "      <td>8.364351</td>\n",
       "    </tr>\n",
       "    <tr>\n",
       "      <th>3</th>\n",
       "      <td>4</td>\n",
       "      <td>B</td>\n",
       "      <td>B</td>\n",
       "      <td>A</td>\n",
       "      <td>C</td>\n",
       "      <td>B</td>\n",
       "      <td>D</td>\n",
       "      <td>A</td>\n",
       "      <td>E</td>\n",
       "      <td>C</td>\n",
       "      <td>...</td>\n",
       "      <td>0.668980</td>\n",
       "      <td>0.239061</td>\n",
       "      <td>0.732948</td>\n",
       "      <td>0.679618</td>\n",
       "      <td>0.574844</td>\n",
       "      <td>0.346010</td>\n",
       "      <td>0.714610</td>\n",
       "      <td>0.540150</td>\n",
       "      <td>0.280682</td>\n",
       "      <td>8.049253</td>\n",
       "    </tr>\n",
       "    <tr>\n",
       "      <th>4</th>\n",
       "      <td>6</td>\n",
       "      <td>A</td>\n",
       "      <td>A</td>\n",
       "      <td>A</td>\n",
       "      <td>C</td>\n",
       "      <td>B</td>\n",
       "      <td>D</td>\n",
       "      <td>A</td>\n",
       "      <td>E</td>\n",
       "      <td>A</td>\n",
       "      <td>...</td>\n",
       "      <td>0.686964</td>\n",
       "      <td>0.420667</td>\n",
       "      <td>0.648182</td>\n",
       "      <td>0.684501</td>\n",
       "      <td>0.956692</td>\n",
       "      <td>1.000773</td>\n",
       "      <td>0.776742</td>\n",
       "      <td>0.625849</td>\n",
       "      <td>0.250823</td>\n",
       "      <td>7.972260</td>\n",
       "    </tr>\n",
       "    <tr>\n",
       "      <th>...</th>\n",
       "      <td>...</td>\n",
       "      <td>...</td>\n",
       "      <td>...</td>\n",
       "      <td>...</td>\n",
       "      <td>...</td>\n",
       "      <td>...</td>\n",
       "      <td>...</td>\n",
       "      <td>...</td>\n",
       "      <td>...</td>\n",
       "      <td>...</td>\n",
       "      <td>...</td>\n",
       "      <td>...</td>\n",
       "      <td>...</td>\n",
       "      <td>...</td>\n",
       "      <td>...</td>\n",
       "      <td>...</td>\n",
       "      <td>...</td>\n",
       "      <td>...</td>\n",
       "      <td>...</td>\n",
       "      <td>...</td>\n",
       "      <td>...</td>\n",
       "    </tr>\n",
       "    <tr>\n",
       "      <th>299995</th>\n",
       "      <td>499993</td>\n",
       "      <td>B</td>\n",
       "      <td>B</td>\n",
       "      <td>A</td>\n",
       "      <td>A</td>\n",
       "      <td>B</td>\n",
       "      <td>D</td>\n",
       "      <td>A</td>\n",
       "      <td>E</td>\n",
       "      <td>A</td>\n",
       "      <td>...</td>\n",
       "      <td>0.769792</td>\n",
       "      <td>0.450538</td>\n",
       "      <td>0.934360</td>\n",
       "      <td>1.005077</td>\n",
       "      <td>0.853726</td>\n",
       "      <td>0.422541</td>\n",
       "      <td>1.063463</td>\n",
       "      <td>0.697685</td>\n",
       "      <td>0.506404</td>\n",
       "      <td>7.945605</td>\n",
       "    </tr>\n",
       "    <tr>\n",
       "      <th>299996</th>\n",
       "      <td>499996</td>\n",
       "      <td>A</td>\n",
       "      <td>B</td>\n",
       "      <td>A</td>\n",
       "      <td>C</td>\n",
       "      <td>B</td>\n",
       "      <td>B</td>\n",
       "      <td>A</td>\n",
       "      <td>E</td>\n",
       "      <td>E</td>\n",
       "      <td>...</td>\n",
       "      <td>0.528056</td>\n",
       "      <td>0.508502</td>\n",
       "      <td>0.358247</td>\n",
       "      <td>0.257825</td>\n",
       "      <td>0.433525</td>\n",
       "      <td>0.301015</td>\n",
       "      <td>0.268447</td>\n",
       "      <td>0.577055</td>\n",
       "      <td>0.823611</td>\n",
       "      <td>7.326118</td>\n",
       "    </tr>\n",
       "    <tr>\n",
       "      <th>299997</th>\n",
       "      <td>499997</td>\n",
       "      <td>B</td>\n",
       "      <td>B</td>\n",
       "      <td>A</td>\n",
       "      <td>C</td>\n",
       "      <td>B</td>\n",
       "      <td>C</td>\n",
       "      <td>A</td>\n",
       "      <td>E</td>\n",
       "      <td>G</td>\n",
       "      <td>...</td>\n",
       "      <td>0.688747</td>\n",
       "      <td>0.372425</td>\n",
       "      <td>0.364936</td>\n",
       "      <td>0.383224</td>\n",
       "      <td>0.551825</td>\n",
       "      <td>0.661007</td>\n",
       "      <td>0.629606</td>\n",
       "      <td>0.714139</td>\n",
       "      <td>0.245732</td>\n",
       "      <td>8.706755</td>\n",
       "    </tr>\n",
       "    <tr>\n",
       "      <th>299998</th>\n",
       "      <td>499998</td>\n",
       "      <td>A</td>\n",
       "      <td>B</td>\n",
       "      <td>A</td>\n",
       "      <td>C</td>\n",
       "      <td>B</td>\n",
       "      <td>B</td>\n",
       "      <td>A</td>\n",
       "      <td>E</td>\n",
       "      <td>E</td>\n",
       "      <td>...</td>\n",
       "      <td>0.344404</td>\n",
       "      <td>0.424243</td>\n",
       "      <td>0.382028</td>\n",
       "      <td>0.468819</td>\n",
       "      <td>0.351036</td>\n",
       "      <td>0.288768</td>\n",
       "      <td>0.611169</td>\n",
       "      <td>0.380254</td>\n",
       "      <td>0.332030</td>\n",
       "      <td>7.229569</td>\n",
       "    </tr>\n",
       "    <tr>\n",
       "      <th>299999</th>\n",
       "      <td>499999</td>\n",
       "      <td>A</td>\n",
       "      <td>A</td>\n",
       "      <td>A</td>\n",
       "      <td>C</td>\n",
       "      <td>A</td>\n",
       "      <td>D</td>\n",
       "      <td>A</td>\n",
       "      <td>E</td>\n",
       "      <td>A</td>\n",
       "      <td>...</td>\n",
       "      <td>0.565347</td>\n",
       "      <td>0.328669</td>\n",
       "      <td>0.789165</td>\n",
       "      <td>0.960406</td>\n",
       "      <td>0.776019</td>\n",
       "      <td>0.734707</td>\n",
       "      <td>0.484392</td>\n",
       "      <td>0.639754</td>\n",
       "      <td>0.689317</td>\n",
       "      <td>8.631146</td>\n",
       "    </tr>\n",
       "  </tbody>\n",
       "</table>\n",
       "<p>300000 rows × 26 columns</p>\n",
       "</div>"
      ],
      "text/plain": [
       "            id cat0 cat1 cat2 cat3 cat4 cat5 cat6 cat7 cat8  ...     cont5  \\\n",
       "0            1    B    B    B    C    B    B    A    E    C  ...  0.400361   \n",
       "1            2    B    B    A    A    B    D    A    F    A  ...  0.533087   \n",
       "2            3    A    A    A    C    B    D    A    D    A  ...  0.650609   \n",
       "3            4    B    B    A    C    B    D    A    E    C  ...  0.668980   \n",
       "4            6    A    A    A    C    B    D    A    E    A  ...  0.686964   \n",
       "...        ...  ...  ...  ...  ...  ...  ...  ...  ...  ...  ...       ...   \n",
       "299995  499993    B    B    A    A    B    D    A    E    A  ...  0.769792   \n",
       "299996  499996    A    B    A    C    B    B    A    E    E  ...  0.528056   \n",
       "299997  499997    B    B    A    C    B    C    A    E    G  ...  0.688747   \n",
       "299998  499998    A    B    A    C    B    B    A    E    E  ...  0.344404   \n",
       "299999  499999    A    A    A    C    A    D    A    E    A  ...  0.565347   \n",
       "\n",
       "           cont6     cont7     cont8     cont9    cont10    cont11    cont12  \\\n",
       "0       0.160266  0.310921  0.389470  0.267559  0.237281  0.377873  0.322401   \n",
       "1       0.558922  0.516294  0.594928  0.341439  0.906013  0.921701  0.261975   \n",
       "2       0.375348  0.902567  0.555205  0.843531  0.748809  0.620126  0.541474   \n",
       "3       0.239061  0.732948  0.679618  0.574844  0.346010  0.714610  0.540150   \n",
       "4       0.420667  0.648182  0.684501  0.956692  1.000773  0.776742  0.625849   \n",
       "...          ...       ...       ...       ...       ...       ...       ...   \n",
       "299995  0.450538  0.934360  1.005077  0.853726  0.422541  1.063463  0.697685   \n",
       "299996  0.508502  0.358247  0.257825  0.433525  0.301015  0.268447  0.577055   \n",
       "299997  0.372425  0.364936  0.383224  0.551825  0.661007  0.629606  0.714139   \n",
       "299998  0.424243  0.382028  0.468819  0.351036  0.288768  0.611169  0.380254   \n",
       "299999  0.328669  0.789165  0.960406  0.776019  0.734707  0.484392  0.639754   \n",
       "\n",
       "          cont13    target  \n",
       "0       0.869850  8.113634  \n",
       "1       0.465083  8.481233  \n",
       "2       0.763846  8.364351  \n",
       "3       0.280682  8.049253  \n",
       "4       0.250823  7.972260  \n",
       "...          ...       ...  \n",
       "299995  0.506404  7.945605  \n",
       "299996  0.823611  7.326118  \n",
       "299997  0.245732  8.706755  \n",
       "299998  0.332030  7.229569  \n",
       "299999  0.689317  8.631146  \n",
       "\n",
       "[300000 rows x 26 columns]"
      ]
     },
     "execution_count": 6,
     "metadata": {},
     "output_type": "execute_result"
    }
   ],
   "source": [
    "train"
   ]
  },
  {
   "cell_type": "markdown",
   "id": "dff12253",
   "metadata": {
    "papermill": {
     "duration": null,
     "end_time": null,
     "exception": null,
     "start_time": null,
     "status": "pending"
    },
    "tags": []
   },
   "source": [
    "**Exploring The Dataset**"
   ]
  },
  {
   "cell_type": "code",
   "execution_count": 7,
   "id": "8995e098",
   "metadata": {
    "execution": {
     "iopub.execute_input": "2021-08-23T20:29:35.365032Z",
     "iopub.status.busy": "2021-08-23T20:29:35.364648Z",
     "iopub.status.idle": "2021-08-23T20:29:35.644044Z",
     "shell.execute_reply": "2021-08-23T20:29:35.643036Z",
     "shell.execute_reply.started": "2021-08-23T20:29:35.364995Z"
    },
    "papermill": {
     "duration": null,
     "end_time": null,
     "exception": null,
     "start_time": null,
     "status": "pending"
    },
    "tags": []
   },
   "outputs": [
    {
     "name": "stdout",
     "output_type": "stream",
     "text": [
      "<class 'pandas.core.frame.DataFrame'>\n",
      "RangeIndex: 300000 entries, 0 to 299999\n",
      "Data columns (total 26 columns):\n",
      " #   Column  Non-Null Count   Dtype  \n",
      "---  ------  --------------   -----  \n",
      " 0   id      300000 non-null  int64  \n",
      " 1   cat0    300000 non-null  object \n",
      " 2   cat1    300000 non-null  object \n",
      " 3   cat2    300000 non-null  object \n",
      " 4   cat3    300000 non-null  object \n",
      " 5   cat4    300000 non-null  object \n",
      " 6   cat5    300000 non-null  object \n",
      " 7   cat6    300000 non-null  object \n",
      " 8   cat7    300000 non-null  object \n",
      " 9   cat8    300000 non-null  object \n",
      " 10  cat9    300000 non-null  object \n",
      " 11  cont0   300000 non-null  float64\n",
      " 12  cont1   300000 non-null  float64\n",
      " 13  cont2   300000 non-null  float64\n",
      " 14  cont3   300000 non-null  float64\n",
      " 15  cont4   300000 non-null  float64\n",
      " 16  cont5   300000 non-null  float64\n",
      " 17  cont6   300000 non-null  float64\n",
      " 18  cont7   300000 non-null  float64\n",
      " 19  cont8   300000 non-null  float64\n",
      " 20  cont9   300000 non-null  float64\n",
      " 21  cont10  300000 non-null  float64\n",
      " 22  cont11  300000 non-null  float64\n",
      " 23  cont12  300000 non-null  float64\n",
      " 24  cont13  300000 non-null  float64\n",
      " 25  target  300000 non-null  float64\n",
      "dtypes: float64(15), int64(1), object(10)\n",
      "memory usage: 59.5+ MB\n"
     ]
    }
   ],
   "source": [
    "train.info()"
   ]
  },
  {
   "cell_type": "code",
   "execution_count": 8,
   "id": "1f51a9a5",
   "metadata": {
    "execution": {
     "iopub.execute_input": "2021-08-23T20:29:35.646545Z",
     "iopub.status.busy": "2021-08-23T20:29:35.646164Z",
     "iopub.status.idle": "2021-08-23T20:29:35.937014Z",
     "shell.execute_reply": "2021-08-23T20:29:35.935966Z",
     "shell.execute_reply.started": "2021-08-23T20:29:35.646506Z"
    },
    "papermill": {
     "duration": null,
     "end_time": null,
     "exception": null,
     "start_time": null,
     "status": "pending"
    },
    "tags": []
   },
   "outputs": [
    {
     "data": {
      "text/plain": [
       "id        0\n",
       "cat0      0\n",
       "cat1      0\n",
       "cat2      0\n",
       "cat3      0\n",
       "cat4      0\n",
       "cat5      0\n",
       "cat6      0\n",
       "cat7      0\n",
       "cat8      0\n",
       "cat9      0\n",
       "cont0     0\n",
       "cont1     0\n",
       "cont2     0\n",
       "cont3     0\n",
       "cont4     0\n",
       "cont5     0\n",
       "cont6     0\n",
       "cont7     0\n",
       "cont8     0\n",
       "cont9     0\n",
       "cont10    0\n",
       "cont11    0\n",
       "cont12    0\n",
       "cont13    0\n",
       "target    0\n",
       "dtype: int64"
      ]
     },
     "execution_count": 8,
     "metadata": {},
     "output_type": "execute_result"
    }
   ],
   "source": [
    "train.isna().sum()"
   ]
  },
  {
   "cell_type": "code",
   "execution_count": 9,
   "id": "9914810f",
   "metadata": {
    "execution": {
     "iopub.execute_input": "2021-08-23T20:29:35.939031Z",
     "iopub.status.busy": "2021-08-23T20:29:35.938623Z",
     "iopub.status.idle": "2021-08-23T20:29:36.183693Z",
     "shell.execute_reply": "2021-08-23T20:29:36.182616Z",
     "shell.execute_reply.started": "2021-08-23T20:29:35.938989Z"
    },
    "papermill": {
     "duration": null,
     "end_time": null,
     "exception": null,
     "start_time": null,
     "status": "pending"
    },
    "tags": []
   },
   "outputs": [
    {
     "data": {
      "text/html": [
       "<div>\n",
       "<style scoped>\n",
       "    .dataframe tbody tr th:only-of-type {\n",
       "        vertical-align: middle;\n",
       "    }\n",
       "\n",
       "    .dataframe tbody tr th {\n",
       "        vertical-align: top;\n",
       "    }\n",
       "\n",
       "    .dataframe thead th {\n",
       "        text-align: right;\n",
       "    }\n",
       "</style>\n",
       "<table border=\"1\" class=\"dataframe\">\n",
       "  <thead>\n",
       "    <tr style=\"text-align: right;\">\n",
       "      <th></th>\n",
       "      <th>id</th>\n",
       "      <th>cont0</th>\n",
       "      <th>cont1</th>\n",
       "      <th>cont2</th>\n",
       "      <th>cont3</th>\n",
       "      <th>cont4</th>\n",
       "      <th>cont5</th>\n",
       "      <th>cont6</th>\n",
       "      <th>cont7</th>\n",
       "      <th>cont8</th>\n",
       "      <th>cont9</th>\n",
       "      <th>cont10</th>\n",
       "      <th>cont11</th>\n",
       "      <th>cont12</th>\n",
       "      <th>cont13</th>\n",
       "      <th>target</th>\n",
       "    </tr>\n",
       "  </thead>\n",
       "  <tbody>\n",
       "    <tr>\n",
       "      <th>id</th>\n",
       "      <td>1.000000</td>\n",
       "      <td>0.002445</td>\n",
       "      <td>0.001970</td>\n",
       "      <td>0.001552</td>\n",
       "      <td>0.000595</td>\n",
       "      <td>-0.002411</td>\n",
       "      <td>-0.001864</td>\n",
       "      <td>0.002295</td>\n",
       "      <td>-0.001246</td>\n",
       "      <td>-0.004349</td>\n",
       "      <td>-0.000328</td>\n",
       "      <td>0.000832</td>\n",
       "      <td>0.002284</td>\n",
       "      <td>-0.000480</td>\n",
       "      <td>-0.001694</td>\n",
       "      <td>0.000480</td>\n",
       "    </tr>\n",
       "    <tr>\n",
       "      <th>cont0</th>\n",
       "      <td>0.002445</td>\n",
       "      <td>1.000000</td>\n",
       "      <td>-0.009422</td>\n",
       "      <td>-0.296989</td>\n",
       "      <td>0.211333</td>\n",
       "      <td>-0.109776</td>\n",
       "      <td>0.392456</td>\n",
       "      <td>0.133995</td>\n",
       "      <td>0.294687</td>\n",
       "      <td>0.388510</td>\n",
       "      <td>0.394969</td>\n",
       "      <td>0.363413</td>\n",
       "      <td>0.255941</td>\n",
       "      <td>0.417872</td>\n",
       "      <td>0.023234</td>\n",
       "      <td>0.028819</td>\n",
       "    </tr>\n",
       "    <tr>\n",
       "      <th>cont1</th>\n",
       "      <td>0.001970</td>\n",
       "      <td>-0.009422</td>\n",
       "      <td>1.000000</td>\n",
       "      <td>-0.000627</td>\n",
       "      <td>-0.002233</td>\n",
       "      <td>-0.000285</td>\n",
       "      <td>0.003812</td>\n",
       "      <td>0.001321</td>\n",
       "      <td>0.013475</td>\n",
       "      <td>-0.021541</td>\n",
       "      <td>-0.002727</td>\n",
       "      <td>-0.001648</td>\n",
       "      <td>-0.017221</td>\n",
       "      <td>-0.006862</td>\n",
       "      <td>-0.010097</td>\n",
       "      <td>-0.002096</td>\n",
       "    </tr>\n",
       "    <tr>\n",
       "      <th>cont2</th>\n",
       "      <td>0.001552</td>\n",
       "      <td>-0.296989</td>\n",
       "      <td>-0.000627</td>\n",
       "      <td>1.000000</td>\n",
       "      <td>-0.180856</td>\n",
       "      <td>0.092780</td>\n",
       "      <td>-0.300140</td>\n",
       "      <td>-0.141724</td>\n",
       "      <td>-0.283989</td>\n",
       "      <td>-0.326456</td>\n",
       "      <td>-0.309118</td>\n",
       "      <td>-0.300273</td>\n",
       "      <td>-0.325023</td>\n",
       "      <td>-0.352009</td>\n",
       "      <td>-0.039815</td>\n",
       "      <td>0.034280</td>\n",
       "    </tr>\n",
       "    <tr>\n",
       "      <th>cont3</th>\n",
       "      <td>0.000595</td>\n",
       "      <td>0.211333</td>\n",
       "      <td>-0.002233</td>\n",
       "      <td>-0.180856</td>\n",
       "      <td>1.000000</td>\n",
       "      <td>-0.069934</td>\n",
       "      <td>0.201441</td>\n",
       "      <td>0.040133</td>\n",
       "      <td>0.172586</td>\n",
       "      <td>0.185221</td>\n",
       "      <td>0.194807</td>\n",
       "      <td>0.199525</td>\n",
       "      <td>0.140934</td>\n",
       "      <td>0.255117</td>\n",
       "      <td>0.037920</td>\n",
       "      <td>-0.022759</td>\n",
       "    </tr>\n",
       "    <tr>\n",
       "      <th>cont4</th>\n",
       "      <td>-0.002411</td>\n",
       "      <td>-0.109776</td>\n",
       "      <td>-0.000285</td>\n",
       "      <td>0.092780</td>\n",
       "      <td>-0.069934</td>\n",
       "      <td>1.000000</td>\n",
       "      <td>-0.148807</td>\n",
       "      <td>-0.044417</td>\n",
       "      <td>-0.095653</td>\n",
       "      <td>-0.122594</td>\n",
       "      <td>-0.123468</td>\n",
       "      <td>-0.132211</td>\n",
       "      <td>-0.115173</td>\n",
       "      <td>-0.151080</td>\n",
       "      <td>-0.012798</td>\n",
       "      <td>-0.023132</td>\n",
       "    </tr>\n",
       "    <tr>\n",
       "      <th>cont5</th>\n",
       "      <td>-0.001864</td>\n",
       "      <td>0.392456</td>\n",
       "      <td>0.003812</td>\n",
       "      <td>-0.300140</td>\n",
       "      <td>0.201441</td>\n",
       "      <td>-0.148807</td>\n",
       "      <td>1.000000</td>\n",
       "      <td>0.211800</td>\n",
       "      <td>0.329357</td>\n",
       "      <td>0.392057</td>\n",
       "      <td>0.411366</td>\n",
       "      <td>0.402053</td>\n",
       "      <td>0.308249</td>\n",
       "      <td>0.473964</td>\n",
       "      <td>0.053779</td>\n",
       "      <td>-0.015058</td>\n",
       "    </tr>\n",
       "    <tr>\n",
       "      <th>cont6</th>\n",
       "      <td>0.002295</td>\n",
       "      <td>0.133995</td>\n",
       "      <td>0.001321</td>\n",
       "      <td>-0.141724</td>\n",
       "      <td>0.040133</td>\n",
       "      <td>-0.044417</td>\n",
       "      <td>0.211800</td>\n",
       "      <td>1.000000</td>\n",
       "      <td>0.135333</td>\n",
       "      <td>0.117833</td>\n",
       "      <td>0.187303</td>\n",
       "      <td>0.178168</td>\n",
       "      <td>0.168731</td>\n",
       "      <td>0.171010</td>\n",
       "      <td>0.031183</td>\n",
       "      <td>-0.013807</td>\n",
       "    </tr>\n",
       "    <tr>\n",
       "      <th>cont7</th>\n",
       "      <td>-0.001246</td>\n",
       "      <td>0.294687</td>\n",
       "      <td>0.013475</td>\n",
       "      <td>-0.283989</td>\n",
       "      <td>0.172586</td>\n",
       "      <td>-0.095653</td>\n",
       "      <td>0.329357</td>\n",
       "      <td>0.135333</td>\n",
       "      <td>1.000000</td>\n",
       "      <td>0.332639</td>\n",
       "      <td>0.320239</td>\n",
       "      <td>0.283414</td>\n",
       "      <td>0.279405</td>\n",
       "      <td>0.363091</td>\n",
       "      <td>0.056958</td>\n",
       "      <td>0.035143</td>\n",
       "    </tr>\n",
       "    <tr>\n",
       "      <th>cont8</th>\n",
       "      <td>-0.004349</td>\n",
       "      <td>0.388510</td>\n",
       "      <td>-0.021541</td>\n",
       "      <td>-0.326456</td>\n",
       "      <td>0.185221</td>\n",
       "      <td>-0.122594</td>\n",
       "      <td>0.392057</td>\n",
       "      <td>0.117833</td>\n",
       "      <td>0.332639</td>\n",
       "      <td>1.000000</td>\n",
       "      <td>0.406517</td>\n",
       "      <td>0.341430</td>\n",
       "      <td>0.297121</td>\n",
       "      <td>0.434196</td>\n",
       "      <td>0.050163</td>\n",
       "      <td>0.017740</td>\n",
       "    </tr>\n",
       "    <tr>\n",
       "      <th>cont9</th>\n",
       "      <td>-0.000328</td>\n",
       "      <td>0.394969</td>\n",
       "      <td>-0.002727</td>\n",
       "      <td>-0.309118</td>\n",
       "      <td>0.194807</td>\n",
       "      <td>-0.123468</td>\n",
       "      <td>0.411366</td>\n",
       "      <td>0.187303</td>\n",
       "      <td>0.320239</td>\n",
       "      <td>0.406517</td>\n",
       "      <td>1.000000</td>\n",
       "      <td>0.361941</td>\n",
       "      <td>0.327866</td>\n",
       "      <td>0.437776</td>\n",
       "      <td>0.044631</td>\n",
       "      <td>-0.015726</td>\n",
       "    </tr>\n",
       "    <tr>\n",
       "      <th>cont10</th>\n",
       "      <td>0.000832</td>\n",
       "      <td>0.363413</td>\n",
       "      <td>-0.001648</td>\n",
       "      <td>-0.300273</td>\n",
       "      <td>0.199525</td>\n",
       "      <td>-0.132211</td>\n",
       "      <td>0.402053</td>\n",
       "      <td>0.178168</td>\n",
       "      <td>0.283414</td>\n",
       "      <td>0.341430</td>\n",
       "      <td>0.361941</td>\n",
       "      <td>1.000000</td>\n",
       "      <td>0.293860</td>\n",
       "      <td>0.407609</td>\n",
       "      <td>0.041353</td>\n",
       "      <td>0.052468</td>\n",
       "    </tr>\n",
       "    <tr>\n",
       "      <th>cont11</th>\n",
       "      <td>0.002284</td>\n",
       "      <td>0.255941</td>\n",
       "      <td>-0.017221</td>\n",
       "      <td>-0.325023</td>\n",
       "      <td>0.140934</td>\n",
       "      <td>-0.115173</td>\n",
       "      <td>0.308249</td>\n",
       "      <td>0.168731</td>\n",
       "      <td>0.279405</td>\n",
       "      <td>0.297121</td>\n",
       "      <td>0.327866</td>\n",
       "      <td>0.293860</td>\n",
       "      <td>1.000000</td>\n",
       "      <td>0.363579</td>\n",
       "      <td>0.031141</td>\n",
       "      <td>0.033378</td>\n",
       "    </tr>\n",
       "    <tr>\n",
       "      <th>cont12</th>\n",
       "      <td>-0.000480</td>\n",
       "      <td>0.417872</td>\n",
       "      <td>-0.006862</td>\n",
       "      <td>-0.352009</td>\n",
       "      <td>0.255117</td>\n",
       "      <td>-0.151080</td>\n",
       "      <td>0.473964</td>\n",
       "      <td>0.171010</td>\n",
       "      <td>0.363091</td>\n",
       "      <td>0.434196</td>\n",
       "      <td>0.437776</td>\n",
       "      <td>0.407609</td>\n",
       "      <td>0.363579</td>\n",
       "      <td>1.000000</td>\n",
       "      <td>0.059919</td>\n",
       "      <td>0.055829</td>\n",
       "    </tr>\n",
       "    <tr>\n",
       "      <th>cont13</th>\n",
       "      <td>-0.001694</td>\n",
       "      <td>0.023234</td>\n",
       "      <td>-0.010097</td>\n",
       "      <td>-0.039815</td>\n",
       "      <td>0.037920</td>\n",
       "      <td>-0.012798</td>\n",
       "      <td>0.053779</td>\n",
       "      <td>0.031183</td>\n",
       "      <td>0.056958</td>\n",
       "      <td>0.050163</td>\n",
       "      <td>0.044631</td>\n",
       "      <td>0.041353</td>\n",
       "      <td>0.031141</td>\n",
       "      <td>0.059919</td>\n",
       "      <td>1.000000</td>\n",
       "      <td>-0.028189</td>\n",
       "    </tr>\n",
       "    <tr>\n",
       "      <th>target</th>\n",
       "      <td>0.000480</td>\n",
       "      <td>0.028819</td>\n",
       "      <td>-0.002096</td>\n",
       "      <td>0.034280</td>\n",
       "      <td>-0.022759</td>\n",
       "      <td>-0.023132</td>\n",
       "      <td>-0.015058</td>\n",
       "      <td>-0.013807</td>\n",
       "      <td>0.035143</td>\n",
       "      <td>0.017740</td>\n",
       "      <td>-0.015726</td>\n",
       "      <td>0.052468</td>\n",
       "      <td>0.033378</td>\n",
       "      <td>0.055829</td>\n",
       "      <td>-0.028189</td>\n",
       "      <td>1.000000</td>\n",
       "    </tr>\n",
       "  </tbody>\n",
       "</table>\n",
       "</div>"
      ],
      "text/plain": [
       "              id     cont0     cont1     cont2     cont3     cont4     cont5  \\\n",
       "id      1.000000  0.002445  0.001970  0.001552  0.000595 -0.002411 -0.001864   \n",
       "cont0   0.002445  1.000000 -0.009422 -0.296989  0.211333 -0.109776  0.392456   \n",
       "cont1   0.001970 -0.009422  1.000000 -0.000627 -0.002233 -0.000285  0.003812   \n",
       "cont2   0.001552 -0.296989 -0.000627  1.000000 -0.180856  0.092780 -0.300140   \n",
       "cont3   0.000595  0.211333 -0.002233 -0.180856  1.000000 -0.069934  0.201441   \n",
       "cont4  -0.002411 -0.109776 -0.000285  0.092780 -0.069934  1.000000 -0.148807   \n",
       "cont5  -0.001864  0.392456  0.003812 -0.300140  0.201441 -0.148807  1.000000   \n",
       "cont6   0.002295  0.133995  0.001321 -0.141724  0.040133 -0.044417  0.211800   \n",
       "cont7  -0.001246  0.294687  0.013475 -0.283989  0.172586 -0.095653  0.329357   \n",
       "cont8  -0.004349  0.388510 -0.021541 -0.326456  0.185221 -0.122594  0.392057   \n",
       "cont9  -0.000328  0.394969 -0.002727 -0.309118  0.194807 -0.123468  0.411366   \n",
       "cont10  0.000832  0.363413 -0.001648 -0.300273  0.199525 -0.132211  0.402053   \n",
       "cont11  0.002284  0.255941 -0.017221 -0.325023  0.140934 -0.115173  0.308249   \n",
       "cont12 -0.000480  0.417872 -0.006862 -0.352009  0.255117 -0.151080  0.473964   \n",
       "cont13 -0.001694  0.023234 -0.010097 -0.039815  0.037920 -0.012798  0.053779   \n",
       "target  0.000480  0.028819 -0.002096  0.034280 -0.022759 -0.023132 -0.015058   \n",
       "\n",
       "           cont6     cont7     cont8     cont9    cont10    cont11    cont12  \\\n",
       "id      0.002295 -0.001246 -0.004349 -0.000328  0.000832  0.002284 -0.000480   \n",
       "cont0   0.133995  0.294687  0.388510  0.394969  0.363413  0.255941  0.417872   \n",
       "cont1   0.001321  0.013475 -0.021541 -0.002727 -0.001648 -0.017221 -0.006862   \n",
       "cont2  -0.141724 -0.283989 -0.326456 -0.309118 -0.300273 -0.325023 -0.352009   \n",
       "cont3   0.040133  0.172586  0.185221  0.194807  0.199525  0.140934  0.255117   \n",
       "cont4  -0.044417 -0.095653 -0.122594 -0.123468 -0.132211 -0.115173 -0.151080   \n",
       "cont5   0.211800  0.329357  0.392057  0.411366  0.402053  0.308249  0.473964   \n",
       "cont6   1.000000  0.135333  0.117833  0.187303  0.178168  0.168731  0.171010   \n",
       "cont7   0.135333  1.000000  0.332639  0.320239  0.283414  0.279405  0.363091   \n",
       "cont8   0.117833  0.332639  1.000000  0.406517  0.341430  0.297121  0.434196   \n",
       "cont9   0.187303  0.320239  0.406517  1.000000  0.361941  0.327866  0.437776   \n",
       "cont10  0.178168  0.283414  0.341430  0.361941  1.000000  0.293860  0.407609   \n",
       "cont11  0.168731  0.279405  0.297121  0.327866  0.293860  1.000000  0.363579   \n",
       "cont12  0.171010  0.363091  0.434196  0.437776  0.407609  0.363579  1.000000   \n",
       "cont13  0.031183  0.056958  0.050163  0.044631  0.041353  0.031141  0.059919   \n",
       "target -0.013807  0.035143  0.017740 -0.015726  0.052468  0.033378  0.055829   \n",
       "\n",
       "          cont13    target  \n",
       "id     -0.001694  0.000480  \n",
       "cont0   0.023234  0.028819  \n",
       "cont1  -0.010097 -0.002096  \n",
       "cont2  -0.039815  0.034280  \n",
       "cont3   0.037920 -0.022759  \n",
       "cont4  -0.012798 -0.023132  \n",
       "cont5   0.053779 -0.015058  \n",
       "cont6   0.031183 -0.013807  \n",
       "cont7   0.056958  0.035143  \n",
       "cont8   0.050163  0.017740  \n",
       "cont9   0.044631 -0.015726  \n",
       "cont10  0.041353  0.052468  \n",
       "cont11  0.031141  0.033378  \n",
       "cont12  0.059919  0.055829  \n",
       "cont13  1.000000 -0.028189  \n",
       "target -0.028189  1.000000  "
      ]
     },
     "execution_count": 9,
     "metadata": {},
     "output_type": "execute_result"
    }
   ],
   "source": [
    "train.corr()"
   ]
  },
  {
   "cell_type": "code",
   "execution_count": 10,
   "id": "3f5720b0",
   "metadata": {
    "execution": {
     "iopub.execute_input": "2021-08-23T20:29:36.185719Z",
     "iopub.status.busy": "2021-08-23T20:29:36.185339Z",
     "iopub.status.idle": "2021-08-23T20:29:37.892010Z",
     "shell.execute_reply": "2021-08-23T20:29:37.891205Z",
     "shell.execute_reply.started": "2021-08-23T20:29:36.185679Z"
    },
    "papermill": {
     "duration": null,
     "end_time": null,
     "exception": null,
     "start_time": null,
     "status": "pending"
    },
    "tags": []
   },
   "outputs": [
    {
     "data": {
      "text/plain": [
       "Text(0.5, 1.0, 'Train data correlation')"
      ]
     },
     "execution_count": 10,
     "metadata": {},
     "output_type": "execute_result"
    },
    {
     "data": {
      "image/png": "[encoded data removed]",
      "text/plain": [
       "<Figure size 720x504 with 2 Axes>"
      ]
     },
     "metadata": {
      "needs_background": "light"
     },
     "output_type": "display_data"
    }
   ],
   "source": [
    "import seaborn as sns\n",
    "import matplotlib.pyplot as plt\n",
    "plt.figure(figsize = (10,7))\n",
    "sns.heatmap(train.corr(), annot = True)\n",
    "plt.title(\"Train data correlation\")"
   ]
  },
  {
   "cell_type": "markdown",
   "id": "817babe9",
   "metadata": {
    "papermill": {
     "duration": null,
     "end_time": null,
     "exception": null,
     "start_time": null,
     "status": "pending"
    },
    "tags": []
   },
   "source": [
    "****Input and Target columns****"
   ]
  },
  {
   "cell_type": "code",
   "execution_count": 11,
   "id": "752b4f3d",
   "metadata": {
    "execution": {
     "iopub.execute_input": "2021-08-23T20:29:37.893628Z",
     "iopub.status.busy": "2021-08-23T20:29:37.893282Z",
     "iopub.status.idle": "2021-08-23T20:29:37.898008Z",
     "shell.execute_reply": "2021-08-23T20:29:37.897124Z",
     "shell.execute_reply.started": "2021-08-23T20:29:37.893591Z"
    },
    "papermill": {
     "duration": null,
     "end_time": null,
     "exception": null,
     "start_time": null,
     "status": "pending"
    },
    "tags": []
   },
   "outputs": [],
   "source": [
    "input_cols = train.columns[:-1].drop('id')"
   ]
  },
  {
   "cell_type": "code",
   "execution_count": 12,
   "id": "c4215b88",
   "metadata": {
    "execution": {
     "iopub.execute_input": "2021-08-23T20:29:37.900001Z",
     "iopub.status.busy": "2021-08-23T20:29:37.899399Z",
     "iopub.status.idle": "2021-08-23T20:29:37.910119Z",
     "shell.execute_reply": "2021-08-23T20:29:37.909189Z",
     "shell.execute_reply.started": "2021-08-23T20:29:37.899965Z"
    },
    "papermill": {
     "duration": null,
     "end_time": null,
     "exception": null,
     "start_time": null,
     "status": "pending"
    },
    "tags": []
   },
   "outputs": [
    {
     "data": {
      "text/plain": [
       "Index(['cat0', 'cat1', 'cat2', 'cat3', 'cat4', 'cat5', 'cat6', 'cat7', 'cat8',\n",
       "       'cat9', 'cont0', 'cont1', 'cont2', 'cont3', 'cont4', 'cont5', 'cont6',\n",
       "       'cont7', 'cont8', 'cont9', 'cont10', 'cont11', 'cont12', 'cont13'],\n",
       "      dtype='object')"
      ]
     },
     "execution_count": 12,
     "metadata": {},
     "output_type": "execute_result"
    }
   ],
   "source": [
    "input_cols"
   ]
  },
  {
   "cell_type": "code",
   "execution_count": 13,
   "id": "cf913351",
   "metadata": {
    "execution": {
     "iopub.execute_input": "2021-08-23T20:29:37.911826Z",
     "iopub.status.busy": "2021-08-23T20:29:37.911482Z",
     "iopub.status.idle": "2021-08-23T20:29:37.918083Z",
     "shell.execute_reply": "2021-08-23T20:29:37.917238Z",
     "shell.execute_reply.started": "2021-08-23T20:29:37.911790Z"
    },
    "papermill": {
     "duration": null,
     "end_time": null,
     "exception": null,
     "start_time": null,
     "status": "pending"
    },
    "tags": []
   },
   "outputs": [],
   "source": [
    "target_col = \"target\""
   ]
  },
  {
   "cell_type": "code",
   "execution_count": 14,
   "id": "5115384d",
   "metadata": {
    "execution": {
     "iopub.execute_input": "2021-08-23T20:29:37.919838Z",
     "iopub.status.busy": "2021-08-23T20:29:37.919436Z",
     "iopub.status.idle": "2021-08-23T20:29:37.975293Z",
     "shell.execute_reply": "2021-08-23T20:29:37.974319Z",
     "shell.execute_reply.started": "2021-08-23T20:29:37.919801Z"
    },
    "papermill": {
     "duration": null,
     "end_time": null,
     "exception": null,
     "start_time": null,
     "status": "pending"
    },
    "tags": []
   },
   "outputs": [],
   "source": [
    "inputs_df = train[input_cols].copy()             #X"
   ]
  },
  {
   "cell_type": "code",
   "execution_count": 15,
   "id": "bf7d0edf",
   "metadata": {
    "execution": {
     "iopub.execute_input": "2021-08-23T20:29:37.976831Z",
     "iopub.status.busy": "2021-08-23T20:29:37.976487Z",
     "iopub.status.idle": "2021-08-23T20:29:38.124761Z",
     "shell.execute_reply": "2021-08-23T20:29:38.123910Z",
     "shell.execute_reply.started": "2021-08-23T20:29:37.976797Z"
    },
    "papermill": {
     "duration": null,
     "end_time": null,
     "exception": null,
     "start_time": null,
     "status": "pending"
    },
    "tags": []
   },
   "outputs": [
    {
     "data": {
      "text/html": [
       "<div>\n",
       "<style scoped>\n",
       "    .dataframe tbody tr th:only-of-type {\n",
       "        vertical-align: middle;\n",
       "    }\n",
       "\n",
       "    .dataframe tbody tr th {\n",
       "        vertical-align: top;\n",
       "    }\n",
       "\n",
       "    .dataframe thead th {\n",
       "        text-align: right;\n",
       "    }\n",
       "</style>\n",
       "<table border=\"1\" class=\"dataframe\">\n",
       "  <thead>\n",
       "    <tr style=\"text-align: right;\">\n",
       "      <th></th>\n",
       "      <th>cat0</th>\n",
       "      <th>cat1</th>\n",
       "      <th>cat2</th>\n",
       "      <th>cat3</th>\n",
       "      <th>cat4</th>\n",
       "      <th>cat5</th>\n",
       "      <th>cat6</th>\n",
       "      <th>cat7</th>\n",
       "      <th>cat8</th>\n",
       "      <th>cat9</th>\n",
       "      <th>...</th>\n",
       "      <th>cont4</th>\n",
       "      <th>cont5</th>\n",
       "      <th>cont6</th>\n",
       "      <th>cont7</th>\n",
       "      <th>cont8</th>\n",
       "      <th>cont9</th>\n",
       "      <th>cont10</th>\n",
       "      <th>cont11</th>\n",
       "      <th>cont12</th>\n",
       "      <th>cont13</th>\n",
       "    </tr>\n",
       "  </thead>\n",
       "  <tbody>\n",
       "    <tr>\n",
       "      <th>0</th>\n",
       "      <td>B</td>\n",
       "      <td>B</td>\n",
       "      <td>B</td>\n",
       "      <td>C</td>\n",
       "      <td>B</td>\n",
       "      <td>B</td>\n",
       "      <td>A</td>\n",
       "      <td>E</td>\n",
       "      <td>C</td>\n",
       "      <td>N</td>\n",
       "      <td>...</td>\n",
       "      <td>0.610706</td>\n",
       "      <td>0.400361</td>\n",
       "      <td>0.160266</td>\n",
       "      <td>0.310921</td>\n",
       "      <td>0.389470</td>\n",
       "      <td>0.267559</td>\n",
       "      <td>0.237281</td>\n",
       "      <td>0.377873</td>\n",
       "      <td>0.322401</td>\n",
       "      <td>0.869850</td>\n",
       "    </tr>\n",
       "    <tr>\n",
       "      <th>1</th>\n",
       "      <td>B</td>\n",
       "      <td>B</td>\n",
       "      <td>A</td>\n",
       "      <td>A</td>\n",
       "      <td>B</td>\n",
       "      <td>D</td>\n",
       "      <td>A</td>\n",
       "      <td>F</td>\n",
       "      <td>A</td>\n",
       "      <td>O</td>\n",
       "      <td>...</td>\n",
       "      <td>0.276853</td>\n",
       "      <td>0.533087</td>\n",
       "      <td>0.558922</td>\n",
       "      <td>0.516294</td>\n",
       "      <td>0.594928</td>\n",
       "      <td>0.341439</td>\n",
       "      <td>0.906013</td>\n",
       "      <td>0.921701</td>\n",
       "      <td>0.261975</td>\n",
       "      <td>0.465083</td>\n",
       "    </tr>\n",
       "    <tr>\n",
       "      <th>2</th>\n",
       "      <td>A</td>\n",
       "      <td>A</td>\n",
       "      <td>A</td>\n",
       "      <td>C</td>\n",
       "      <td>B</td>\n",
       "      <td>D</td>\n",
       "      <td>A</td>\n",
       "      <td>D</td>\n",
       "      <td>A</td>\n",
       "      <td>F</td>\n",
       "      <td>...</td>\n",
       "      <td>0.285074</td>\n",
       "      <td>0.650609</td>\n",
       "      <td>0.375348</td>\n",
       "      <td>0.902567</td>\n",
       "      <td>0.555205</td>\n",
       "      <td>0.843531</td>\n",
       "      <td>0.748809</td>\n",
       "      <td>0.620126</td>\n",
       "      <td>0.541474</td>\n",
       "      <td>0.763846</td>\n",
       "    </tr>\n",
       "    <tr>\n",
       "      <th>3</th>\n",
       "      <td>B</td>\n",
       "      <td>B</td>\n",
       "      <td>A</td>\n",
       "      <td>C</td>\n",
       "      <td>B</td>\n",
       "      <td>D</td>\n",
       "      <td>A</td>\n",
       "      <td>E</td>\n",
       "      <td>C</td>\n",
       "      <td>K</td>\n",
       "      <td>...</td>\n",
       "      <td>0.284667</td>\n",
       "      <td>0.668980</td>\n",
       "      <td>0.239061</td>\n",
       "      <td>0.732948</td>\n",
       "      <td>0.679618</td>\n",
       "      <td>0.574844</td>\n",
       "      <td>0.346010</td>\n",
       "      <td>0.714610</td>\n",
       "      <td>0.540150</td>\n",
       "      <td>0.280682</td>\n",
       "    </tr>\n",
       "    <tr>\n",
       "      <th>4</th>\n",
       "      <td>A</td>\n",
       "      <td>A</td>\n",
       "      <td>A</td>\n",
       "      <td>C</td>\n",
       "      <td>B</td>\n",
       "      <td>D</td>\n",
       "      <td>A</td>\n",
       "      <td>E</td>\n",
       "      <td>A</td>\n",
       "      <td>N</td>\n",
       "      <td>...</td>\n",
       "      <td>0.287595</td>\n",
       "      <td>0.686964</td>\n",
       "      <td>0.420667</td>\n",
       "      <td>0.648182</td>\n",
       "      <td>0.684501</td>\n",
       "      <td>0.956692</td>\n",
       "      <td>1.000773</td>\n",
       "      <td>0.776742</td>\n",
       "      <td>0.625849</td>\n",
       "      <td>0.250823</td>\n",
       "    </tr>\n",
       "    <tr>\n",
       "      <th>...</th>\n",
       "      <td>...</td>\n",
       "      <td>...</td>\n",
       "      <td>...</td>\n",
       "      <td>...</td>\n",
       "      <td>...</td>\n",
       "      <td>...</td>\n",
       "      <td>...</td>\n",
       "      <td>...</td>\n",
       "      <td>...</td>\n",
       "      <td>...</td>\n",
       "      <td>...</td>\n",
       "      <td>...</td>\n",
       "      <td>...</td>\n",
       "      <td>...</td>\n",
       "      <td>...</td>\n",
       "      <td>...</td>\n",
       "      <td>...</td>\n",
       "      <td>...</td>\n",
       "      <td>...</td>\n",
       "      <td>...</td>\n",
       "      <td>...</td>\n",
       "    </tr>\n",
       "    <tr>\n",
       "      <th>299995</th>\n",
       "      <td>B</td>\n",
       "      <td>B</td>\n",
       "      <td>A</td>\n",
       "      <td>A</td>\n",
       "      <td>B</td>\n",
       "      <td>D</td>\n",
       "      <td>A</td>\n",
       "      <td>E</td>\n",
       "      <td>A</td>\n",
       "      <td>I</td>\n",
       "      <td>...</td>\n",
       "      <td>0.307883</td>\n",
       "      <td>0.769792</td>\n",
       "      <td>0.450538</td>\n",
       "      <td>0.934360</td>\n",
       "      <td>1.005077</td>\n",
       "      <td>0.853726</td>\n",
       "      <td>0.422541</td>\n",
       "      <td>1.063463</td>\n",
       "      <td>0.697685</td>\n",
       "      <td>0.506404</td>\n",
       "    </tr>\n",
       "    <tr>\n",
       "      <th>299996</th>\n",
       "      <td>A</td>\n",
       "      <td>B</td>\n",
       "      <td>A</td>\n",
       "      <td>C</td>\n",
       "      <td>B</td>\n",
       "      <td>B</td>\n",
       "      <td>A</td>\n",
       "      <td>E</td>\n",
       "      <td>E</td>\n",
       "      <td>F</td>\n",
       "      <td>...</td>\n",
       "      <td>0.736713</td>\n",
       "      <td>0.528056</td>\n",
       "      <td>0.508502</td>\n",
       "      <td>0.358247</td>\n",
       "      <td>0.257825</td>\n",
       "      <td>0.433525</td>\n",
       "      <td>0.301015</td>\n",
       "      <td>0.268447</td>\n",
       "      <td>0.577055</td>\n",
       "      <td>0.823611</td>\n",
       "    </tr>\n",
       "    <tr>\n",
       "      <th>299997</th>\n",
       "      <td>B</td>\n",
       "      <td>B</td>\n",
       "      <td>A</td>\n",
       "      <td>C</td>\n",
       "      <td>B</td>\n",
       "      <td>C</td>\n",
       "      <td>A</td>\n",
       "      <td>E</td>\n",
       "      <td>G</td>\n",
       "      <td>F</td>\n",
       "      <td>...</td>\n",
       "      <td>0.277074</td>\n",
       "      <td>0.688747</td>\n",
       "      <td>0.372425</td>\n",
       "      <td>0.364936</td>\n",
       "      <td>0.383224</td>\n",
       "      <td>0.551825</td>\n",
       "      <td>0.661007</td>\n",
       "      <td>0.629606</td>\n",
       "      <td>0.714139</td>\n",
       "      <td>0.245732</td>\n",
       "    </tr>\n",
       "    <tr>\n",
       "      <th>299998</th>\n",
       "      <td>A</td>\n",
       "      <td>B</td>\n",
       "      <td>A</td>\n",
       "      <td>C</td>\n",
       "      <td>B</td>\n",
       "      <td>B</td>\n",
       "      <td>A</td>\n",
       "      <td>E</td>\n",
       "      <td>E</td>\n",
       "      <td>I</td>\n",
       "      <td>...</td>\n",
       "      <td>0.805963</td>\n",
       "      <td>0.344404</td>\n",
       "      <td>0.424243</td>\n",
       "      <td>0.382028</td>\n",
       "      <td>0.468819</td>\n",
       "      <td>0.351036</td>\n",
       "      <td>0.288768</td>\n",
       "      <td>0.611169</td>\n",
       "      <td>0.380254</td>\n",
       "      <td>0.332030</td>\n",
       "    </tr>\n",
       "    <tr>\n",
       "      <th>299999</th>\n",
       "      <td>A</td>\n",
       "      <td>A</td>\n",
       "      <td>A</td>\n",
       "      <td>C</td>\n",
       "      <td>A</td>\n",
       "      <td>D</td>\n",
       "      <td>A</td>\n",
       "      <td>E</td>\n",
       "      <td>A</td>\n",
       "      <td>O</td>\n",
       "      <td>...</td>\n",
       "      <td>0.276785</td>\n",
       "      <td>0.565347</td>\n",
       "      <td>0.328669</td>\n",
       "      <td>0.789165</td>\n",
       "      <td>0.960406</td>\n",
       "      <td>0.776019</td>\n",
       "      <td>0.734707</td>\n",
       "      <td>0.484392</td>\n",
       "      <td>0.639754</td>\n",
       "      <td>0.689317</td>\n",
       "    </tr>\n",
       "  </tbody>\n",
       "</table>\n",
       "<p>300000 rows × 24 columns</p>\n",
       "</div>"
      ],
      "text/plain": [
       "       cat0 cat1 cat2 cat3 cat4 cat5 cat6 cat7 cat8 cat9  ...     cont4  \\\n",
       "0         B    B    B    C    B    B    A    E    C    N  ...  0.610706   \n",
       "1         B    B    A    A    B    D    A    F    A    O  ...  0.276853   \n",
       "2         A    A    A    C    B    D    A    D    A    F  ...  0.285074   \n",
       "3         B    B    A    C    B    D    A    E    C    K  ...  0.284667   \n",
       "4         A    A    A    C    B    D    A    E    A    N  ...  0.287595   \n",
       "...     ...  ...  ...  ...  ...  ...  ...  ...  ...  ...  ...       ...   \n",
       "299995    B    B    A    A    B    D    A    E    A    I  ...  0.307883   \n",
       "299996    A    B    A    C    B    B    A    E    E    F  ...  0.736713   \n",
       "299997    B    B    A    C    B    C    A    E    G    F  ...  0.277074   \n",
       "299998    A    B    A    C    B    B    A    E    E    I  ...  0.805963   \n",
       "299999    A    A    A    C    A    D    A    E    A    O  ...  0.276785   \n",
       "\n",
       "           cont5     cont6     cont7     cont8     cont9    cont10    cont11  \\\n",
       "0       0.400361  0.160266  0.310921  0.389470  0.267559  0.237281  0.377873   \n",
       "1       0.533087  0.558922  0.516294  0.594928  0.341439  0.906013  0.921701   \n",
       "2       0.650609  0.375348  0.902567  0.555205  0.843531  0.748809  0.620126   \n",
       "3       0.668980  0.239061  0.732948  0.679618  0.574844  0.346010  0.714610   \n",
       "4       0.686964  0.420667  0.648182  0.684501  0.956692  1.000773  0.776742   \n",
       "...          ...       ...       ...       ...       ...       ...       ...   \n",
       "299995  0.769792  0.450538  0.934360  1.005077  0.853726  0.422541  1.063463   \n",
       "299996  0.528056  0.508502  0.358247  0.257825  0.433525  0.301015  0.268447   \n",
       "299997  0.688747  0.372425  0.364936  0.383224  0.551825  0.661007  0.629606   \n",
       "299998  0.344404  0.424243  0.382028  0.468819  0.351036  0.288768  0.611169   \n",
       "299999  0.565347  0.328669  0.789165  0.960406  0.776019  0.734707  0.484392   \n",
       "\n",
       "          cont12    cont13  \n",
       "0       0.322401  0.869850  \n",
       "1       0.261975  0.465083  \n",
       "2       0.541474  0.763846  \n",
       "3       0.540150  0.280682  \n",
       "4       0.625849  0.250823  \n",
       "...          ...       ...  \n",
       "299995  0.697685  0.506404  \n",
       "299996  0.577055  0.823611  \n",
       "299997  0.714139  0.245732  \n",
       "299998  0.380254  0.332030  \n",
       "299999  0.639754  0.689317  \n",
       "\n",
       "[300000 rows x 24 columns]"
      ]
     },
     "execution_count": 15,
     "metadata": {},
     "output_type": "execute_result"
    }
   ],
   "source": [
    "inputs_df"
   ]
  },
  {
   "cell_type": "code",
   "execution_count": 16,
   "id": "8fa8ff8b",
   "metadata": {
    "execution": {
     "iopub.execute_input": "2021-08-23T20:29:38.126583Z",
     "iopub.status.busy": "2021-08-23T20:29:38.126068Z",
     "iopub.status.idle": "2021-08-23T20:29:38.131977Z",
     "shell.execute_reply": "2021-08-23T20:29:38.130914Z",
     "shell.execute_reply.started": "2021-08-23T20:29:38.126538Z"
    },
    "papermill": {
     "duration": null,
     "end_time": null,
     "exception": null,
     "start_time": null,
     "status": "pending"
    },
    "tags": []
   },
   "outputs": [],
   "source": [
    "targets = train[target_col].copy()               #Y"
   ]
  },
  {
   "cell_type": "code",
   "execution_count": 17,
   "id": "040d6cee",
   "metadata": {
    "execution": {
     "iopub.execute_input": "2021-08-23T20:29:38.134353Z",
     "iopub.status.busy": "2021-08-23T20:29:38.133784Z",
     "iopub.status.idle": "2021-08-23T20:29:38.144187Z",
     "shell.execute_reply": "2021-08-23T20:29:38.143114Z",
     "shell.execute_reply.started": "2021-08-23T20:29:38.134315Z"
    },
    "papermill": {
     "duration": null,
     "end_time": null,
     "exception": null,
     "start_time": null,
     "status": "pending"
    },
    "tags": []
   },
   "outputs": [
    {
     "data": {
      "text/plain": [
       "0         8.113634\n",
       "1         8.481233\n",
       "2         8.364351\n",
       "3         8.049253\n",
       "4         7.972260\n",
       "            ...   \n",
       "299995    7.945605\n",
       "299996    7.326118\n",
       "299997    8.706755\n",
       "299998    7.229569\n",
       "299999    8.631146\n",
       "Name: target, Length: 300000, dtype: float64"
      ]
     },
     "execution_count": 17,
     "metadata": {},
     "output_type": "execute_result"
    }
   ],
   "source": [
    "targets"
   ]
  },
  {
   "cell_type": "markdown",
   "id": "c5629c6e",
   "metadata": {
    "papermill": {
     "duration": null,
     "end_time": null,
     "exception": null,
     "start_time": null,
     "status": "pending"
    },
    "tags": []
   },
   "source": [
    "****Machine Learning Model****"
   ]
  },
  {
   "cell_type": "code",
   "execution_count": 18,
   "id": "fa0bf394",
   "metadata": {
    "execution": {
     "iopub.execute_input": "2021-08-23T20:29:38.146213Z",
     "iopub.status.busy": "2021-08-23T20:29:38.145770Z",
     "iopub.status.idle": "2021-08-23T20:29:38.152817Z",
     "shell.execute_reply": "2021-08-23T20:29:38.151743Z",
     "shell.execute_reply.started": "2021-08-23T20:29:38.146173Z"
    },
    "papermill": {
     "duration": null,
     "end_time": null,
     "exception": null,
     "start_time": null,
     "status": "pending"
    },
    "tags": []
   },
   "outputs": [],
   "source": [
    "import numpy as np\n",
    "from sklearn.impute import SimpleImputer\n",
    "from sklearn.preprocessing import MinMaxScaler, OneHotEncoder\n",
    "from sklearn.model_selection import train_test_split"
   ]
  },
  {
   "cell_type": "markdown",
   "id": "4841aac4",
   "metadata": {
    "papermill": {
     "duration": null,
     "end_time": null,
     "exception": null,
     "start_time": null,
     "status": "pending"
    },
    "tags": []
   },
   "source": [
    "****Identify numeric and categorical columns****"
   ]
  },
  {
   "cell_type": "code",
   "execution_count": 19,
   "id": "d984ebdc",
   "metadata": {
    "execution": {
     "iopub.execute_input": "2021-08-23T20:29:38.154410Z",
     "iopub.status.busy": "2021-08-23T20:29:38.154171Z",
     "iopub.status.idle": "2021-08-23T20:29:38.209194Z",
     "shell.execute_reply": "2021-08-23T20:29:38.208290Z",
     "shell.execute_reply.started": "2021-08-23T20:29:38.154387Z"
    },
    "papermill": {
     "duration": null,
     "end_time": null,
     "exception": null,
     "start_time": null,
     "status": "pending"
    },
    "tags": []
   },
   "outputs": [],
   "source": [
    "numeric_cols = train[input_cols].select_dtypes(include=np.number).columns.tolist()"
   ]
  },
  {
   "cell_type": "code",
   "execution_count": 20,
   "id": "d62524c6",
   "metadata": {
    "execution": {
     "iopub.execute_input": "2021-08-23T20:29:38.210974Z",
     "iopub.status.busy": "2021-08-23T20:29:38.210453Z",
     "iopub.status.idle": "2021-08-23T20:29:38.218630Z",
     "shell.execute_reply": "2021-08-23T20:29:38.217699Z",
     "shell.execute_reply.started": "2021-08-23T20:29:38.210936Z"
    },
    "papermill": {
     "duration": null,
     "end_time": null,
     "exception": null,
     "start_time": null,
     "status": "pending"
    },
    "tags": []
   },
   "outputs": [
    {
     "data": {
      "text/plain": [
       "['cont0',\n",
       " 'cont1',\n",
       " 'cont2',\n",
       " 'cont3',\n",
       " 'cont4',\n",
       " 'cont5',\n",
       " 'cont6',\n",
       " 'cont7',\n",
       " 'cont8',\n",
       " 'cont9',\n",
       " 'cont10',\n",
       " 'cont11',\n",
       " 'cont12',\n",
       " 'cont13']"
      ]
     },
     "execution_count": 20,
     "metadata": {},
     "output_type": "execute_result"
    }
   ],
   "source": [
    "numeric_cols"
   ]
  },
  {
   "cell_type": "code",
   "execution_count": 21,
   "id": "72d6c4ca",
   "metadata": {
    "execution": {
     "iopub.execute_input": "2021-08-23T20:29:38.220922Z",
     "iopub.status.busy": "2021-08-23T20:29:38.220371Z",
     "iopub.status.idle": "2021-08-23T20:29:38.287017Z",
     "shell.execute_reply": "2021-08-23T20:29:38.286140Z",
     "shell.execute_reply.started": "2021-08-23T20:29:38.220884Z"
    },
    "papermill": {
     "duration": null,
     "end_time": null,
     "exception": null,
     "start_time": null,
     "status": "pending"
    },
    "tags": []
   },
   "outputs": [],
   "source": [
    "categorical_cols = train[input_cols].select_dtypes('object').columns.tolist()"
   ]
  },
  {
   "cell_type": "code",
   "execution_count": 22,
   "id": "96e70625",
   "metadata": {
    "execution": {
     "iopub.execute_input": "2021-08-23T20:29:38.291932Z",
     "iopub.status.busy": "2021-08-23T20:29:38.291654Z",
     "iopub.status.idle": "2021-08-23T20:29:38.297719Z",
     "shell.execute_reply": "2021-08-23T20:29:38.296630Z",
     "shell.execute_reply.started": "2021-08-23T20:29:38.291895Z"
    },
    "papermill": {
     "duration": null,
     "end_time": null,
     "exception": null,
     "start_time": null,
     "status": "pending"
    },
    "tags": []
   },
   "outputs": [
    {
     "data": {
      "text/plain": [
       "['cat0',\n",
       " 'cat1',\n",
       " 'cat2',\n",
       " 'cat3',\n",
       " 'cat4',\n",
       " 'cat5',\n",
       " 'cat6',\n",
       " 'cat7',\n",
       " 'cat8',\n",
       " 'cat9']"
      ]
     },
     "execution_count": 22,
     "metadata": {},
     "output_type": "execute_result"
    }
   ],
   "source": [
    "categorical_cols "
   ]
  },
  {
   "cell_type": "markdown",
   "id": "fe7aaced",
   "metadata": {
    "papermill": {
     "duration": null,
     "end_time": null,
     "exception": null,
     "start_time": null,
     "status": "pending"
    },
    "tags": []
   },
   "source": [
    "****Impute and scale numeric columns****"
   ]
  },
  {
   "cell_type": "code",
   "execution_count": 23,
   "id": "86c58d11",
   "metadata": {
    "execution": {
     "iopub.execute_input": "2021-08-23T20:29:38.301101Z",
     "iopub.status.busy": "2021-08-23T20:29:38.300683Z",
     "iopub.status.idle": "2021-08-23T20:29:40.380284Z",
     "shell.execute_reply": "2021-08-23T20:29:40.379369Z",
     "shell.execute_reply.started": "2021-08-23T20:29:38.301066Z"
    },
    "papermill": {
     "duration": null,
     "end_time": null,
     "exception": null,
     "start_time": null,
     "status": "pending"
    },
    "tags": []
   },
   "outputs": [],
   "source": [
    "imputer = SimpleImputer().fit(inputs_df[numeric_cols])\n",
    "inputs_df[numeric_cols] = imputer.transform(inputs_df[numeric_cols])\n",
    "scaler = MinMaxScaler().fit(inputs_df[numeric_cols])\n",
    "inputs_df[numeric_cols] = scaler.transform(inputs_df[numeric_cols])"
   ]
  },
  {
   "cell_type": "code",
   "execution_count": 24,
   "id": "b737c21b",
   "metadata": {
    "execution": {
     "iopub.execute_input": "2021-08-23T20:29:40.381916Z",
     "iopub.status.busy": "2021-08-23T20:29:40.381572Z",
     "iopub.status.idle": "2021-08-23T20:29:40.584696Z",
     "shell.execute_reply": "2021-08-23T20:29:40.583812Z",
     "shell.execute_reply.started": "2021-08-23T20:29:40.381883Z"
    },
    "papermill": {
     "duration": null,
     "end_time": null,
     "exception": null,
     "start_time": null,
     "status": "pending"
    },
    "tags": []
   },
   "outputs": [
    {
     "data": {
      "text/html": [
       "<div>\n",
       "<style scoped>\n",
       "    .dataframe tbody tr th:only-of-type {\n",
       "        vertical-align: middle;\n",
       "    }\n",
       "\n",
       "    .dataframe tbody tr th {\n",
       "        vertical-align: top;\n",
       "    }\n",
       "\n",
       "    .dataframe thead th {\n",
       "        text-align: right;\n",
       "    }\n",
       "</style>\n",
       "<table border=\"1\" class=\"dataframe\">\n",
       "  <thead>\n",
       "    <tr style=\"text-align: right;\">\n",
       "      <th></th>\n",
       "      <th>cont0</th>\n",
       "      <th>cont1</th>\n",
       "      <th>cont2</th>\n",
       "      <th>cont3</th>\n",
       "      <th>cont4</th>\n",
       "      <th>cont5</th>\n",
       "      <th>cont6</th>\n",
       "      <th>cont7</th>\n",
       "      <th>cont8</th>\n",
       "      <th>cont9</th>\n",
       "      <th>cont10</th>\n",
       "      <th>cont11</th>\n",
       "      <th>cont12</th>\n",
       "      <th>cont13</th>\n",
       "    </tr>\n",
       "  </thead>\n",
       "  <tbody>\n",
       "    <tr>\n",
       "      <th>min</th>\n",
       "      <td>0.0</td>\n",
       "      <td>0.0</td>\n",
       "      <td>0.0</td>\n",
       "      <td>0.0</td>\n",
       "      <td>0.0</td>\n",
       "      <td>0.0</td>\n",
       "      <td>0.0</td>\n",
       "      <td>0.0</td>\n",
       "      <td>0.0</td>\n",
       "      <td>0.0</td>\n",
       "      <td>0.0</td>\n",
       "      <td>0.0</td>\n",
       "      <td>0.0</td>\n",
       "      <td>0.0</td>\n",
       "    </tr>\n",
       "    <tr>\n",
       "      <th>max</th>\n",
       "      <td>1.0</td>\n",
       "      <td>1.0</td>\n",
       "      <td>1.0</td>\n",
       "      <td>1.0</td>\n",
       "      <td>1.0</td>\n",
       "      <td>1.0</td>\n",
       "      <td>1.0</td>\n",
       "      <td>1.0</td>\n",
       "      <td>1.0</td>\n",
       "      <td>1.0</td>\n",
       "      <td>1.0</td>\n",
       "      <td>1.0</td>\n",
       "      <td>1.0</td>\n",
       "      <td>1.0</td>\n",
       "    </tr>\n",
       "  </tbody>\n",
       "</table>\n",
       "</div>"
      ],
      "text/plain": [
       "     cont0  cont1  cont2  cont3  cont4  cont5  cont6  cont7  cont8  cont9  \\\n",
       "min    0.0    0.0    0.0    0.0    0.0    0.0    0.0    0.0    0.0    0.0   \n",
       "max    1.0    1.0    1.0    1.0    1.0    1.0    1.0    1.0    1.0    1.0   \n",
       "\n",
       "     cont10  cont11  cont12  cont13  \n",
       "min     0.0     0.0     0.0     0.0  \n",
       "max     1.0     1.0     1.0     1.0  "
      ]
     },
     "execution_count": 24,
     "metadata": {},
     "output_type": "execute_result"
    }
   ],
   "source": [
    "inputs_df.describe().loc[['min', 'max']]"
   ]
  },
  {
   "cell_type": "markdown",
   "id": "d2f2cc1f",
   "metadata": {
    "papermill": {
     "duration": null,
     "end_time": null,
     "exception": null,
     "start_time": null,
     "status": "pending"
    },
    "tags": []
   },
   "source": [
    "****Encoding Categorical Data****"
   ]
  },
  {
   "cell_type": "code",
   "execution_count": 25,
   "id": "1ad9e59c",
   "metadata": {
    "execution": {
     "iopub.execute_input": "2021-08-23T20:29:40.586406Z",
     "iopub.status.busy": "2021-08-23T20:29:40.586053Z",
     "iopub.status.idle": "2021-08-23T20:29:40.896164Z",
     "shell.execute_reply": "2021-08-23T20:29:40.895007Z",
     "shell.execute_reply.started": "2021-08-23T20:29:40.586369Z"
    },
    "papermill": {
     "duration": null,
     "end_time": null,
     "exception": null,
     "start_time": null,
     "status": "pending"
    },
    "tags": []
   },
   "outputs": [],
   "source": [
    "encoder = OneHotEncoder(sparse=False, handle_unknown='ignore').fit(inputs_df[categorical_cols])"
   ]
  },
  {
   "cell_type": "code",
   "execution_count": 26,
   "id": "58ceafe9",
   "metadata": {
    "execution": {
     "iopub.execute_input": "2021-08-23T20:29:40.897854Z",
     "iopub.status.busy": "2021-08-23T20:29:40.897522Z",
     "iopub.status.idle": "2021-08-23T20:29:40.906189Z",
     "shell.execute_reply": "2021-08-23T20:29:40.905078Z",
     "shell.execute_reply.started": "2021-08-23T20:29:40.897820Z"
    },
    "papermill": {
     "duration": null,
     "end_time": null,
     "exception": null,
     "start_time": null,
     "status": "pending"
    },
    "tags": []
   },
   "outputs": [],
   "source": [
    "encoded_cols = list(encoder.get_feature_names(categorical_cols))"
   ]
  },
  {
   "cell_type": "code",
   "execution_count": 27,
   "id": "61edeb86",
   "metadata": {
    "execution": {
     "iopub.execute_input": "2021-08-23T20:29:40.909965Z",
     "iopub.status.busy": "2021-08-23T20:29:40.909614Z",
     "iopub.status.idle": "2021-08-23T20:29:50.984300Z",
     "shell.execute_reply": "2021-08-23T20:29:50.983201Z",
     "shell.execute_reply.started": "2021-08-23T20:29:40.909912Z"
    },
    "papermill": {
     "duration": null,
     "end_time": null,
     "exception": null,
     "start_time": null,
     "status": "pending"
    },
    "tags": []
   },
   "outputs": [],
   "source": [
    "inputs_df[encoded_cols] = encoder.transform(inputs_df[categorical_cols])"
   ]
  },
  {
   "cell_type": "code",
   "execution_count": 28,
   "id": "fdcf337b",
   "metadata": {
    "execution": {
     "iopub.execute_input": "2021-08-23T20:29:50.986098Z",
     "iopub.status.busy": "2021-08-23T20:29:50.985592Z",
     "iopub.status.idle": "2021-08-23T20:29:51.332099Z",
     "shell.execute_reply": "2021-08-23T20:29:51.331236Z",
     "shell.execute_reply.started": "2021-08-23T20:29:50.986053Z"
    },
    "papermill": {
     "duration": null,
     "end_time": null,
     "exception": null,
     "start_time": null,
     "status": "pending"
    },
    "tags": []
   },
   "outputs": [],
   "source": [
    "# Create training and validation sets\n",
    "train_inputs, val_inputs, train_targets, val_targets = train_test_split(\n",
    "    inputs_df[numeric_cols+encoded_cols], targets, test_size=0.25, random_state=42)"
   ]
  },
  {
   "cell_type": "markdown",
   "id": "96efd2b1",
   "metadata": {
    "papermill": {
     "duration": null,
     "end_time": null,
     "exception": null,
     "start_time": null,
     "status": "pending"
    },
    "tags": []
   },
   "source": [
    "****Linear Regression****"
   ]
  },
  {
   "cell_type": "code",
   "execution_count": 29,
   "id": "2d1e872c",
   "metadata": {
    "execution": {
     "iopub.execute_input": "2021-08-23T20:29:51.333828Z",
     "iopub.status.busy": "2021-08-23T20:29:51.333359Z",
     "iopub.status.idle": "2021-08-23T20:29:51.337959Z",
     "shell.execute_reply": "2021-08-23T20:29:51.336940Z",
     "shell.execute_reply.started": "2021-08-23T20:29:51.333788Z"
    },
    "papermill": {
     "duration": null,
     "end_time": null,
     "exception": null,
     "start_time": null,
     "status": "pending"
    },
    "tags": []
   },
   "outputs": [],
   "source": [
    "from sklearn.linear_model import LinearRegression"
   ]
  },
  {
   "cell_type": "code",
   "execution_count": 30,
   "id": "dd2bf131",
   "metadata": {
    "execution": {
     "iopub.execute_input": "2021-08-23T20:29:51.339630Z",
     "iopub.status.busy": "2021-08-23T20:29:51.339269Z",
     "iopub.status.idle": "2021-08-23T20:29:51.348494Z",
     "shell.execute_reply": "2021-08-23T20:29:51.347730Z",
     "shell.execute_reply.started": "2021-08-23T20:29:51.339578Z"
    },
    "papermill": {
     "duration": null,
     "end_time": null,
     "exception": null,
     "start_time": null,
     "status": "pending"
    },
    "tags": []
   },
   "outputs": [],
   "source": [
    "Reg = LinearRegression()"
   ]
  },
  {
   "cell_type": "code",
   "execution_count": 31,
   "id": "54da93e2",
   "metadata": {
    "execution": {
     "iopub.execute_input": "2021-08-23T20:29:51.350092Z",
     "iopub.status.busy": "2021-08-23T20:29:51.349726Z",
     "iopub.status.idle": "2021-08-23T20:29:51.922174Z",
     "shell.execute_reply": "2021-08-23T20:29:51.921341Z",
     "shell.execute_reply.started": "2021-08-23T20:29:51.350056Z"
    },
    "papermill": {
     "duration": null,
     "end_time": null,
     "exception": null,
     "start_time": null,
     "status": "pending"
    },
    "tags": []
   },
   "outputs": [
    {
     "data": {
      "text/plain": [
       "LinearRegression()"
      ]
     },
     "execution_count": 31,
     "metadata": {},
     "output_type": "execute_result"
    }
   ],
   "source": [
    "Reg.fit(train_inputs, train_targets)"
   ]
  },
  {
   "cell_type": "code",
   "execution_count": 32,
   "id": "4a3b8920",
   "metadata": {
    "execution": {
     "iopub.execute_input": "2021-08-23T20:29:51.928022Z",
     "iopub.status.busy": "2021-08-23T20:29:51.925952Z",
     "iopub.status.idle": "2021-08-23T20:29:51.960904Z",
     "shell.execute_reply": "2021-08-23T20:29:51.960137Z",
     "shell.execute_reply.started": "2021-08-23T20:29:51.927982Z"
    },
    "papermill": {
     "duration": null,
     "end_time": null,
     "exception": null,
     "start_time": null,
     "status": "pending"
    },
    "tags": []
   },
   "outputs": [],
   "source": [
    "predictions = Reg.predict(train_inputs)"
   ]
  },
  {
   "cell_type": "code",
   "execution_count": 33,
   "id": "6a9bf266",
   "metadata": {
    "execution": {
     "iopub.execute_input": "2021-08-23T20:29:51.962509Z",
     "iopub.status.busy": "2021-08-23T20:29:51.962065Z",
     "iopub.status.idle": "2021-08-23T20:29:51.972722Z",
     "shell.execute_reply": "2021-08-23T20:29:51.971560Z",
     "shell.execute_reply.started": "2021-08-23T20:29:51.962473Z"
    },
    "papermill": {
     "duration": null,
     "end_time": null,
     "exception": null,
     "start_time": null,
     "status": "pending"
    },
    "tags": []
   },
   "outputs": [
    {
     "data": {
      "text/plain": [
       "array([8.20898438, 8.15722656, 8.28515625, ..., 8.37304688, 8.28027344,\n",
       "       8.2265625 ])"
      ]
     },
     "execution_count": 33,
     "metadata": {},
     "output_type": "execute_result"
    }
   ],
   "source": [
    "predictions"
   ]
  },
  {
   "cell_type": "code",
   "execution_count": 34,
   "id": "2f1cc255",
   "metadata": {
    "execution": {
     "iopub.execute_input": "2021-08-23T20:29:51.976473Z",
     "iopub.status.busy": "2021-08-23T20:29:51.974989Z",
     "iopub.status.idle": "2021-08-23T20:29:51.983407Z",
     "shell.execute_reply": "2021-08-23T20:29:51.982220Z",
     "shell.execute_reply.started": "2021-08-23T20:29:51.976435Z"
    },
    "papermill": {
     "duration": null,
     "end_time": null,
     "exception": null,
     "start_time": null,
     "status": "pending"
    },
    "tags": []
   },
   "outputs": [],
   "source": [
    "from sklearn.metrics import mean_squared_error\n",
    "\n",
    "def rmse(a, b):\n",
    "    return mean_squared_error(a, b, squared=False)"
   ]
  },
  {
   "cell_type": "code",
   "execution_count": 35,
   "id": "a141b12f",
   "metadata": {
    "execution": {
     "iopub.execute_input": "2021-08-23T20:29:51.986993Z",
     "iopub.status.busy": "2021-08-23T20:29:51.986032Z",
     "iopub.status.idle": "2021-08-23T20:29:52.001456Z",
     "shell.execute_reply": "2021-08-23T20:29:52.000746Z",
     "shell.execute_reply.started": "2021-08-23T20:29:51.986819Z"
    },
    "papermill": {
     "duration": null,
     "end_time": null,
     "exception": null,
     "start_time": null,
     "status": "pending"
    },
    "tags": []
   },
   "outputs": [
    {
     "data": {
      "text/plain": [
       "0.7386189498731831"
      ]
     },
     "execution_count": 35,
     "metadata": {},
     "output_type": "execute_result"
    }
   ],
   "source": [
    "rmse(train_targets, predictions)"
   ]
  },
  {
   "cell_type": "markdown",
   "id": "5a12cef5",
   "metadata": {
    "papermill": {
     "duration": null,
     "end_time": null,
     "exception": null,
     "start_time": null,
     "status": "pending"
    },
    "tags": []
   },
   "source": [
    "****Checking for important features****"
   ]
  },
  {
   "cell_type": "code",
   "execution_count": 36,
   "id": "6fad5fcc",
   "metadata": {
    "execution": {
     "iopub.execute_input": "2021-08-23T20:29:52.004194Z",
     "iopub.status.busy": "2021-08-23T20:29:52.002720Z",
     "iopub.status.idle": "2021-08-23T20:29:52.039745Z",
     "shell.execute_reply": "2021-08-23T20:29:52.038977Z",
     "shell.execute_reply.started": "2021-08-23T20:29:52.004156Z"
    },
    "papermill": {
     "duration": null,
     "end_time": null,
     "exception": null,
     "start_time": null,
     "status": "pending"
    },
    "tags": []
   },
   "outputs": [
    {
     "data": {
      "text/html": [
       "<div>\n",
       "<style scoped>\n",
       "    .dataframe tbody tr th:only-of-type {\n",
       "        vertical-align: middle;\n",
       "    }\n",
       "\n",
       "    .dataframe tbody tr th {\n",
       "        vertical-align: top;\n",
       "    }\n",
       "\n",
       "    .dataframe thead th {\n",
       "        text-align: right;\n",
       "    }\n",
       "</style>\n",
       "<table border=\"1\" class=\"dataframe\">\n",
       "  <thead>\n",
       "    <tr style=\"text-align: right;\">\n",
       "      <th></th>\n",
       "      <th>feature</th>\n",
       "      <th>weight</th>\n",
       "    </tr>\n",
       "  </thead>\n",
       "  <tbody>\n",
       "    <tr>\n",
       "      <th>70</th>\n",
       "      <td>1</td>\n",
       "      <td>4.848031e+12</td>\n",
       "    </tr>\n",
       "    <tr>\n",
       "      <th>21</th>\n",
       "      <td>cat3_B</td>\n",
       "      <td>3.934549e+11</td>\n",
       "    </tr>\n",
       "    <tr>\n",
       "      <th>20</th>\n",
       "      <td>cat3_A</td>\n",
       "      <td>3.934549e+11</td>\n",
       "    </tr>\n",
       "    <tr>\n",
       "      <th>23</th>\n",
       "      <td>cat3_D</td>\n",
       "      <td>3.934549e+11</td>\n",
       "    </tr>\n",
       "    <tr>\n",
       "      <th>22</th>\n",
       "      <td>cat3_C</td>\n",
       "      <td>3.934549e+11</td>\n",
       "    </tr>\n",
       "    <tr>\n",
       "      <th>...</th>\n",
       "      <td>...</td>\n",
       "      <td>...</td>\n",
       "    </tr>\n",
       "    <tr>\n",
       "      <th>39</th>\n",
       "      <td>cat6_I</td>\n",
       "      <td>-1.472951e+12</td>\n",
       "    </tr>\n",
       "    <tr>\n",
       "      <th>36</th>\n",
       "      <td>cat6_E</td>\n",
       "      <td>-1.472951e+12</td>\n",
       "    </tr>\n",
       "    <tr>\n",
       "      <th>32</th>\n",
       "      <td>cat6_A</td>\n",
       "      <td>-1.472951e+12</td>\n",
       "    </tr>\n",
       "    <tr>\n",
       "      <th>38</th>\n",
       "      <td>cat6_H</td>\n",
       "      <td>-1.472951e+12</td>\n",
       "    </tr>\n",
       "    <tr>\n",
       "      <th>37</th>\n",
       "      <td>cat6_G</td>\n",
       "      <td>-1.472951e+12</td>\n",
       "    </tr>\n",
       "  </tbody>\n",
       "</table>\n",
       "<p>71 rows × 2 columns</p>\n",
       "</div>"
      ],
      "text/plain": [
       "   feature        weight\n",
       "70       1  4.848031e+12\n",
       "21  cat3_B  3.934549e+11\n",
       "20  cat3_A  3.934549e+11\n",
       "23  cat3_D  3.934549e+11\n",
       "22  cat3_C  3.934549e+11\n",
       "..     ...           ...\n",
       "39  cat6_I -1.472951e+12\n",
       "36  cat6_E -1.472951e+12\n",
       "32  cat6_A -1.472951e+12\n",
       "38  cat6_H -1.472951e+12\n",
       "37  cat6_G -1.472951e+12\n",
       "\n",
       "[71 rows x 2 columns]"
      ]
     },
     "execution_count": 36,
     "metadata": {},
     "output_type": "execute_result"
    }
   ],
   "source": [
    "weights_df = pd.DataFrame({\n",
    "    'feature': np.append(numeric_cols + encoded_cols, 1),\n",
    "    'weight': np.append(Reg.coef_, Reg.intercept_)\n",
    "})\n",
    "weights_df.sort_values('weight', ascending=False)"
   ]
  },
  {
   "cell_type": "markdown",
   "id": "dc4cb3fb",
   "metadata": {
    "papermill": {
     "duration": null,
     "end_time": null,
     "exception": null,
     "start_time": null,
     "status": "pending"
    },
    "tags": []
   },
   "source": [
    "### Training a GBM\n"
   ]
  },
  {
   "cell_type": "code",
   "execution_count": 37,
   "id": "9ae13a33",
   "metadata": {
    "execution": {
     "iopub.execute_input": "2021-08-23T20:29:52.042537Z",
     "iopub.status.busy": "2021-08-23T20:29:52.041127Z",
     "iopub.status.idle": "2021-08-23T20:29:52.048010Z",
     "shell.execute_reply": "2021-08-23T20:29:52.046952Z",
     "shell.execute_reply.started": "2021-08-23T20:29:52.042498Z"
    },
    "papermill": {
     "duration": null,
     "end_time": null,
     "exception": null,
     "start_time": null,
     "status": "pending"
    },
    "tags": []
   },
   "outputs": [],
   "source": [
    "from xgboost import XGBRegressor"
   ]
  },
  {
   "cell_type": "code",
   "execution_count": 38,
   "id": "a581f2d6",
   "metadata": {
    "execution": {
     "iopub.execute_input": "2021-08-23T21:02:33.847061Z",
     "iopub.status.busy": "2021-08-23T21:02:33.846726Z",
     "iopub.status.idle": "2021-08-23T21:02:33.852749Z",
     "shell.execute_reply": "2021-08-23T21:02:33.850252Z",
     "shell.execute_reply.started": "2021-08-23T21:02:33.847031Z"
    },
    "papermill": {
     "duration": null,
     "end_time": null,
     "exception": null,
     "start_time": null,
     "status": "pending"
    },
    "tags": []
   },
   "outputs": [],
   "source": [
    "model = XGBRegressor(n_estimators=1370, max_depth = 3,learning_rate=0.14, colsample_bytree= 0.5,\n",
    "                     subsample=0.99, random_state=1, reg_alpha = 25.4)"
   ]
  },
  {
   "cell_type": "code",
   "execution_count": 39,
   "id": "ba5791d5",
   "metadata": {
    "execution": {
     "iopub.execute_input": "2021-08-23T21:02:37.839072Z",
     "iopub.status.busy": "2021-08-23T21:02:37.838703Z",
     "iopub.status.idle": "2021-08-23T21:09:38.285755Z",
     "shell.execute_reply": "2021-08-23T21:09:38.284953Z",
     "shell.execute_reply.started": "2021-08-23T21:02:37.839040Z"
    },
    "papermill": {
     "duration": null,
     "end_time": null,
     "exception": null,
     "start_time": null,
     "status": "pending"
    },
    "tags": []
   },
   "outputs": [
    {
     "data": {
      "text/plain": [
       "XGBRegressor(base_score=0.5, booster='gbtree', colsample_bylevel=1,\n",
       "             colsample_bynode=1, colsample_bytree=0.5, gamma=0, gpu_id=-1,\n",
       "             importance_type='gain', interaction_constraints='',\n",
       "             learning_rate=0.14, max_delta_step=0, max_depth=3,\n",
       "             min_child_weight=1, missing=nan, monotone_constraints='()',\n",
       "             n_estimators=1370, n_jobs=4, num_parallel_tree=1, random_state=1,\n",
       "             reg_alpha=25.4, reg_lambda=1, scale_pos_weight=1, subsample=0.99,\n",
       "             tree_method='exact', validate_parameters=1, verbosity=None)"
      ]
     },
     "execution_count": 39,
     "metadata": {},
     "output_type": "execute_result"
    }
   ],
   "source": [
    "\n",
    "model.fit(train_inputs, train_targets, early_stopping_rounds = 100, eval_set=[(val_inputs, val_targets)], verbose=False)"
   ]
  },
  {
   "cell_type": "markdown",
   "id": "95f287c4",
   "metadata": {
    "papermill": {
     "duration": null,
     "end_time": null,
     "exception": null,
     "start_time": null,
     "status": "pending"
    },
    "tags": []
   },
   "source": [
    "### Predictions\n",
    "\n",
    "We can now make predictions and evaluate the model."
   ]
  },
  {
   "cell_type": "code",
   "execution_count": 40,
   "id": "f49134d0",
   "metadata": {
    "execution": {
     "iopub.execute_input": "2021-08-23T21:11:43.511396Z",
     "iopub.status.busy": "2021-08-23T21:11:43.511075Z",
     "iopub.status.idle": "2021-08-23T21:11:44.200197Z",
     "shell.execute_reply": "2021-08-23T21:11:44.199298Z",
     "shell.execute_reply.started": "2021-08-23T21:11:43.511368Z"
    },
    "papermill": {
     "duration": null,
     "end_time": null,
     "exception": null,
     "start_time": null,
     "status": "pending"
    },
    "tags": []
   },
   "outputs": [],
   "source": [
    "preds_valid = model.predict(val_inputs)"
   ]
  },
  {
   "cell_type": "code",
   "execution_count": 41,
   "id": "525ac732",
   "metadata": {
    "execution": {
     "iopub.execute_input": "2021-08-23T21:11:46.655586Z",
     "iopub.status.busy": "2021-08-23T21:11:46.655276Z",
     "iopub.status.idle": "2021-08-23T21:11:48.704519Z",
     "shell.execute_reply": "2021-08-23T21:11:48.703784Z",
     "shell.execute_reply.started": "2021-08-23T21:11:46.655557Z"
    },
    "papermill": {
     "duration": null,
     "end_time": null,
     "exception": null,
     "start_time": null,
     "status": "pending"
    },
    "tags": []
   },
   "outputs": [],
   "source": [
    "preds = model.predict(train_inputs)"
   ]
  },
  {
   "cell_type": "code",
   "execution_count": 42,
   "id": "33b6547b",
   "metadata": {
    "execution": {
     "iopub.execute_input": "2021-08-23T21:11:59.049965Z",
     "iopub.status.busy": "2021-08-23T21:11:59.049625Z",
     "iopub.status.idle": "2021-08-23T21:11:59.055421Z",
     "shell.execute_reply": "2021-08-23T21:11:59.054611Z",
     "shell.execute_reply.started": "2021-08-23T21:11:59.049916Z"
    },
    "papermill": {
     "duration": null,
     "end_time": null,
     "exception": null,
     "start_time": null,
     "status": "pending"
    },
    "tags": []
   },
   "outputs": [
    {
     "data": {
      "text/plain": [
       "array([8.095697 , 7.9645658, 8.546699 , ..., 8.118805 , 8.393043 ,\n",
       "       8.373574 ], dtype=float32)"
      ]
     },
     "execution_count": 42,
     "metadata": {},
     "output_type": "execute_result"
    }
   ],
   "source": [
    "preds"
   ]
  },
  {
   "cell_type": "markdown",
   "id": "fd82c28b",
   "metadata": {
    "papermill": {
     "duration": null,
     "end_time": null,
     "exception": null,
     "start_time": null,
     "status": "pending"
    },
    "tags": []
   },
   "source": [
    "### Evaluation\n",
    "\n",
    "Let's evaluate the predictions using RMSE error."
   ]
  },
  {
   "cell_type": "code",
   "execution_count": 43,
   "id": "4f2708b0",
   "metadata": {
    "execution": {
     "iopub.execute_input": "2021-08-23T21:12:08.662800Z",
     "iopub.status.busy": "2021-08-23T21:12:08.662478Z",
     "iopub.status.idle": "2021-08-23T21:12:08.670297Z",
     "shell.execute_reply": "2021-08-23T21:12:08.669160Z",
     "shell.execute_reply.started": "2021-08-23T21:12:08.662769Z"
    },
    "papermill": {
     "duration": null,
     "end_time": null,
     "exception": null,
     "start_time": null,
     "status": "pending"
    },
    "tags": []
   },
   "outputs": [
    {
     "data": {
      "text/plain": [
       "0.7156575580084196"
      ]
     },
     "execution_count": 43,
     "metadata": {},
     "output_type": "execute_result"
    }
   ],
   "source": [
    "rmse(val_targets, preds_valid)"
   ]
  },
  {
   "cell_type": "markdown",
   "id": "76dfd3d7",
   "metadata": {
    "papermill": {
     "duration": null,
     "end_time": null,
     "exception": null,
     "start_time": null,
     "status": "pending"
    },
    "tags": []
   },
   "source": [
    "### Feature importance\n",
    "\n"
   ]
  },
  {
   "cell_type": "code",
   "execution_count": 44,
   "id": "ac78a6f1",
   "metadata": {
    "execution": {
     "iopub.execute_input": "2021-08-23T20:37:05.785846Z",
     "iopub.status.busy": "2021-08-23T20:37:05.785585Z",
     "iopub.status.idle": "2021-08-23T20:37:05.954319Z",
     "shell.execute_reply": "2021-08-23T20:37:05.953513Z",
     "shell.execute_reply.started": "2021-08-23T20:37:05.785822Z"
    },
    "papermill": {
     "duration": null,
     "end_time": null,
     "exception": null,
     "start_time": null,
     "status": "pending"
    },
    "tags": []
   },
   "outputs": [],
   "source": [
    "importance_df = pd.DataFrame({\n",
    "    'feature': train_inputs.columns,\n",
    "    'importance': model.feature_importances_\n",
    "}).sort_values('importance', ascending=False)"
   ]
  },
  {
   "cell_type": "code",
   "execution_count": 45,
   "id": "a9102cf0",
   "metadata": {
    "execution": {
     "iopub.execute_input": "2021-08-23T20:37:05.955862Z",
     "iopub.status.busy": "2021-08-23T20:37:05.955504Z",
     "iopub.status.idle": "2021-08-23T20:37:05.966321Z",
     "shell.execute_reply": "2021-08-23T20:37:05.965359Z",
     "shell.execute_reply.started": "2021-08-23T20:37:05.955826Z"
    },
    "papermill": {
     "duration": null,
     "end_time": null,
     "exception": null,
     "start_time": null,
     "status": "pending"
    },
    "tags": []
   },
   "outputs": [
    {
     "data": {
      "text/html": [
       "<div>\n",
       "<style scoped>\n",
       "    .dataframe tbody tr th:only-of-type {\n",
       "        vertical-align: middle;\n",
       "    }\n",
       "\n",
       "    .dataframe tbody tr th {\n",
       "        vertical-align: top;\n",
       "    }\n",
       "\n",
       "    .dataframe thead th {\n",
       "        text-align: right;\n",
       "    }\n",
       "</style>\n",
       "<table border=\"1\" class=\"dataframe\">\n",
       "  <thead>\n",
       "    <tr style=\"text-align: right;\">\n",
       "      <th></th>\n",
       "      <th>feature</th>\n",
       "      <th>importance</th>\n",
       "    </tr>\n",
       "  </thead>\n",
       "  <tbody>\n",
       "    <tr>\n",
       "      <th>16</th>\n",
       "      <td>cat1_A</td>\n",
       "      <td>0.103194</td>\n",
       "    </tr>\n",
       "    <tr>\n",
       "      <th>50</th>\n",
       "      <td>cat8_C</td>\n",
       "      <td>0.102152</td>\n",
       "    </tr>\n",
       "    <tr>\n",
       "      <th>17</th>\n",
       "      <td>cat1_B</td>\n",
       "      <td>0.081686</td>\n",
       "    </tr>\n",
       "    <tr>\n",
       "      <th>10</th>\n",
       "      <td>cont10</td>\n",
       "      <td>0.051512</td>\n",
       "    </tr>\n",
       "    <tr>\n",
       "      <th>12</th>\n",
       "      <td>cont12</td>\n",
       "      <td>0.045637</td>\n",
       "    </tr>\n",
       "    <tr>\n",
       "      <th>9</th>\n",
       "      <td>cont9</td>\n",
       "      <td>0.042018</td>\n",
       "    </tr>\n",
       "    <tr>\n",
       "      <th>22</th>\n",
       "      <td>cat3_C</td>\n",
       "      <td>0.035278</td>\n",
       "    </tr>\n",
       "    <tr>\n",
       "      <th>2</th>\n",
       "      <td>cont2</td>\n",
       "      <td>0.031092</td>\n",
       "    </tr>\n",
       "    <tr>\n",
       "      <th>7</th>\n",
       "      <td>cont7</td>\n",
       "      <td>0.028950</td>\n",
       "    </tr>\n",
       "    <tr>\n",
       "      <th>3</th>\n",
       "      <td>cont3</td>\n",
       "      <td>0.024592</td>\n",
       "    </tr>\n",
       "  </tbody>\n",
       "</table>\n",
       "</div>"
      ],
      "text/plain": [
       "   feature  importance\n",
       "16  cat1_A    0.103194\n",
       "50  cat8_C    0.102152\n",
       "17  cat1_B    0.081686\n",
       "10  cont10    0.051512\n",
       "12  cont12    0.045637\n",
       "9    cont9    0.042018\n",
       "22  cat3_C    0.035278\n",
       "2    cont2    0.031092\n",
       "7    cont7    0.028950\n",
       "3    cont3    0.024592"
      ]
     },
     "execution_count": 45,
     "metadata": {},
     "output_type": "execute_result"
    }
   ],
   "source": [
    "importance_df.head(10)"
   ]
  },
  {
   "cell_type": "markdown",
   "id": "37c7d068",
   "metadata": {
    "papermill": {
     "duration": null,
     "end_time": null,
     "exception": null,
     "start_time": null,
     "status": "pending"
    },
    "tags": []
   },
   "source": [
    "## Hyperparameter Tuning and Regularization"
   ]
  },
  {
   "cell_type": "code",
   "execution_count": 46,
   "id": "c0299b0e",
   "metadata": {
    "execution": {
     "iopub.execute_input": "2021-08-23T21:12:23.121739Z",
     "iopub.status.busy": "2021-08-23T21:12:23.121411Z",
     "iopub.status.idle": "2021-08-23T21:12:23.125363Z",
     "shell.execute_reply": "2021-08-23T21:12:23.124558Z",
     "shell.execute_reply.started": "2021-08-23T21:12:23.121703Z"
    },
    "papermill": {
     "duration": null,
     "end_time": null,
     "exception": null,
     "start_time": null,
     "status": "pending"
    },
    "tags": []
   },
   "outputs": [],
   "source": [
    "from sklearn.model_selection import GridSearchCV"
   ]
  },
  {
   "cell_type": "code",
   "execution_count": 47,
   "id": "fe9e4ef1",
   "metadata": {
    "execution": {
     "iopub.execute_input": "2021-08-23T21:12:26.175322Z",
     "iopub.status.busy": "2021-08-23T21:12:26.175010Z",
     "iopub.status.idle": "2021-08-23T21:12:26.182192Z",
     "shell.execute_reply": "2021-08-23T21:12:26.181174Z",
     "shell.execute_reply.started": "2021-08-23T21:12:26.175295Z"
    },
    "papermill": {
     "duration": null,
     "end_time": null,
     "exception": null,
     "start_time": null,
     "status": "pending"
    },
    "tags": []
   },
   "outputs": [],
   "source": [
    "def  Hyperparameter_tuning(params):\n",
    "    params = params\n",
    "\n",
    "    model = XGBRegressor(n_estimators=1000, max_depth = 3,learning_rate=0.14,\n",
    "                             colsample_bytree= 0.5, subsample=0.99, random_state=1,\n",
    "                             reg_alpha = 25.4, tree_method = 'gpu_hist')\n",
    "    \n",
    "    clf = GridSearchCV(estimator=model, \n",
    "                           param_grid=params,\n",
    "                           scoring='neg_mean_squared_error', \n",
    "                           verbose=2)\n",
    "    clf.fit(inputs_df, targets)\n",
    "    print(\"Best parameters:\", clf.best_params_)\n",
    "    print(\"Lowest RMSE: \", (-clf.best_score_)**(1/2.0))"
   ]
  },
  {
   "cell_type": "markdown",
   "id": "a0768c87",
   "metadata": {
    "papermill": {
     "duration": null,
     "end_time": null,
     "exception": null,
     "start_time": null,
     "status": "pending"
    },
    "tags": []
   },
   "source": [
    "****Test data****"
   ]
  },
  {
   "cell_type": "code",
   "execution_count": 48,
   "id": "15cca500",
   "metadata": {
    "execution": {
     "iopub.execute_input": "2021-08-23T21:12:33.927821Z",
     "iopub.status.busy": "2021-08-23T21:12:33.927471Z",
     "iopub.status.idle": "2021-08-23T21:12:34.669408Z",
     "shell.execute_reply": "2021-08-23T21:12:34.668161Z",
     "shell.execute_reply.started": "2021-08-23T21:12:33.927788Z"
    },
    "papermill": {
     "duration": null,
     "end_time": null,
     "exception": null,
     "start_time": null,
     "status": "pending"
    },
    "tags": []
   },
   "outputs": [],
   "source": [
    "test = pd.read_csv('30-days-of-ml/test.csv', error_bad_lines = False)"
   ]
  },
  {
   "cell_type": "code",
   "execution_count": 49,
   "id": "a4df6ff4",
   "metadata": {
    "execution": {
     "iopub.execute_input": "2021-08-23T20:37:06.619095Z",
     "iopub.status.busy": "2021-08-23T20:37:06.618701Z",
     "iopub.status.idle": "2021-08-23T20:37:06.718847Z",
     "shell.execute_reply": "2021-08-23T20:37:06.717945Z",
     "shell.execute_reply.started": "2021-08-23T20:37:06.619053Z"
    },
    "papermill": {
     "duration": null,
     "end_time": null,
     "exception": null,
     "start_time": null,
     "status": "pending"
    },
    "tags": []
   },
   "outputs": [
    {
     "data": {
      "text/html": [
       "<div>\n",
       "<style scoped>\n",
       "    .dataframe tbody tr th:only-of-type {\n",
       "        vertical-align: middle;\n",
       "    }\n",
       "\n",
       "    .dataframe tbody tr th {\n",
       "        vertical-align: top;\n",
       "    }\n",
       "\n",
       "    .dataframe thead th {\n",
       "        text-align: right;\n",
       "    }\n",
       "</style>\n",
       "<table border=\"1\" class=\"dataframe\">\n",
       "  <thead>\n",
       "    <tr style=\"text-align: right;\">\n",
       "      <th></th>\n",
       "      <th>id</th>\n",
       "      <th>cat0</th>\n",
       "      <th>cat1</th>\n",
       "      <th>cat2</th>\n",
       "      <th>cat3</th>\n",
       "      <th>cat4</th>\n",
       "      <th>cat5</th>\n",
       "      <th>cat6</th>\n",
       "      <th>cat7</th>\n",
       "      <th>cat8</th>\n",
       "      <th>...</th>\n",
       "      <th>cont4</th>\n",
       "      <th>cont5</th>\n",
       "      <th>cont6</th>\n",
       "      <th>cont7</th>\n",
       "      <th>cont8</th>\n",
       "      <th>cont9</th>\n",
       "      <th>cont10</th>\n",
       "      <th>cont11</th>\n",
       "      <th>cont12</th>\n",
       "      <th>cont13</th>\n",
       "    </tr>\n",
       "  </thead>\n",
       "  <tbody>\n",
       "    <tr>\n",
       "      <th>0</th>\n",
       "      <td>0</td>\n",
       "      <td>B</td>\n",
       "      <td>B</td>\n",
       "      <td>B</td>\n",
       "      <td>C</td>\n",
       "      <td>B</td>\n",
       "      <td>B</td>\n",
       "      <td>A</td>\n",
       "      <td>E</td>\n",
       "      <td>E</td>\n",
       "      <td>...</td>\n",
       "      <td>0.476739</td>\n",
       "      <td>0.376350</td>\n",
       "      <td>0.337884</td>\n",
       "      <td>0.321832</td>\n",
       "      <td>0.445212</td>\n",
       "      <td>0.290258</td>\n",
       "      <td>0.244476</td>\n",
       "      <td>0.087914</td>\n",
       "      <td>0.301831</td>\n",
       "      <td>0.845702</td>\n",
       "    </tr>\n",
       "    <tr>\n",
       "      <th>1</th>\n",
       "      <td>5</td>\n",
       "      <td>A</td>\n",
       "      <td>B</td>\n",
       "      <td>A</td>\n",
       "      <td>C</td>\n",
       "      <td>B</td>\n",
       "      <td>C</td>\n",
       "      <td>A</td>\n",
       "      <td>E</td>\n",
       "      <td>C</td>\n",
       "      <td>...</td>\n",
       "      <td>0.285509</td>\n",
       "      <td>0.860046</td>\n",
       "      <td>0.798712</td>\n",
       "      <td>0.835961</td>\n",
       "      <td>0.391657</td>\n",
       "      <td>0.288276</td>\n",
       "      <td>0.549568</td>\n",
       "      <td>0.905097</td>\n",
       "      <td>0.850684</td>\n",
       "      <td>0.693940</td>\n",
       "    </tr>\n",
       "    <tr>\n",
       "      <th>2</th>\n",
       "      <td>15</td>\n",
       "      <td>B</td>\n",
       "      <td>A</td>\n",
       "      <td>A</td>\n",
       "      <td>A</td>\n",
       "      <td>B</td>\n",
       "      <td>B</td>\n",
       "      <td>A</td>\n",
       "      <td>E</td>\n",
       "      <td>D</td>\n",
       "      <td>...</td>\n",
       "      <td>0.697272</td>\n",
       "      <td>0.683600</td>\n",
       "      <td>0.404089</td>\n",
       "      <td>0.879379</td>\n",
       "      <td>0.275549</td>\n",
       "      <td>0.427871</td>\n",
       "      <td>0.491667</td>\n",
       "      <td>0.384315</td>\n",
       "      <td>0.376689</td>\n",
       "      <td>0.508099</td>\n",
       "    </tr>\n",
       "    <tr>\n",
       "      <th>3</th>\n",
       "      <td>16</td>\n",
       "      <td>B</td>\n",
       "      <td>B</td>\n",
       "      <td>A</td>\n",
       "      <td>C</td>\n",
       "      <td>B</td>\n",
       "      <td>D</td>\n",
       "      <td>A</td>\n",
       "      <td>E</td>\n",
       "      <td>A</td>\n",
       "      <td>...</td>\n",
       "      <td>0.719306</td>\n",
       "      <td>0.777890</td>\n",
       "      <td>0.730954</td>\n",
       "      <td>0.644315</td>\n",
       "      <td>1.024017</td>\n",
       "      <td>0.391090</td>\n",
       "      <td>0.988340</td>\n",
       "      <td>0.411828</td>\n",
       "      <td>0.393585</td>\n",
       "      <td>0.461372</td>\n",
       "    </tr>\n",
       "    <tr>\n",
       "      <th>4</th>\n",
       "      <td>17</td>\n",
       "      <td>B</td>\n",
       "      <td>B</td>\n",
       "      <td>A</td>\n",
       "      <td>C</td>\n",
       "      <td>B</td>\n",
       "      <td>C</td>\n",
       "      <td>A</td>\n",
       "      <td>E</td>\n",
       "      <td>C</td>\n",
       "      <td>...</td>\n",
       "      <td>0.313032</td>\n",
       "      <td>0.431007</td>\n",
       "      <td>0.390992</td>\n",
       "      <td>0.408874</td>\n",
       "      <td>0.447887</td>\n",
       "      <td>0.390253</td>\n",
       "      <td>0.648932</td>\n",
       "      <td>0.385935</td>\n",
       "      <td>0.370401</td>\n",
       "      <td>0.900412</td>\n",
       "    </tr>\n",
       "    <tr>\n",
       "      <th>...</th>\n",
       "      <td>...</td>\n",
       "      <td>...</td>\n",
       "      <td>...</td>\n",
       "      <td>...</td>\n",
       "      <td>...</td>\n",
       "      <td>...</td>\n",
       "      <td>...</td>\n",
       "      <td>...</td>\n",
       "      <td>...</td>\n",
       "      <td>...</td>\n",
       "      <td>...</td>\n",
       "      <td>...</td>\n",
       "      <td>...</td>\n",
       "      <td>...</td>\n",
       "      <td>...</td>\n",
       "      <td>...</td>\n",
       "      <td>...</td>\n",
       "      <td>...</td>\n",
       "      <td>...</td>\n",
       "      <td>...</td>\n",
       "      <td>...</td>\n",
       "    </tr>\n",
       "    <tr>\n",
       "      <th>199995</th>\n",
       "      <td>499987</td>\n",
       "      <td>B</td>\n",
       "      <td>A</td>\n",
       "      <td>A</td>\n",
       "      <td>C</td>\n",
       "      <td>B</td>\n",
       "      <td>D</td>\n",
       "      <td>A</td>\n",
       "      <td>E</td>\n",
       "      <td>E</td>\n",
       "      <td>...</td>\n",
       "      <td>0.287454</td>\n",
       "      <td>0.543800</td>\n",
       "      <td>0.682378</td>\n",
       "      <td>1.028978</td>\n",
       "      <td>1.022741</td>\n",
       "      <td>0.683903</td>\n",
       "      <td>0.877273</td>\n",
       "      <td>0.532410</td>\n",
       "      <td>0.605397</td>\n",
       "      <td>0.884581</td>\n",
       "    </tr>\n",
       "    <tr>\n",
       "      <th>199996</th>\n",
       "      <td>499990</td>\n",
       "      <td>B</td>\n",
       "      <td>A</td>\n",
       "      <td>A</td>\n",
       "      <td>C</td>\n",
       "      <td>B</td>\n",
       "      <td>B</td>\n",
       "      <td>A</td>\n",
       "      <td>E</td>\n",
       "      <td>C</td>\n",
       "      <td>...</td>\n",
       "      <td>0.794881</td>\n",
       "      <td>0.432778</td>\n",
       "      <td>0.389775</td>\n",
       "      <td>0.359871</td>\n",
       "      <td>0.550013</td>\n",
       "      <td>0.492082</td>\n",
       "      <td>0.202295</td>\n",
       "      <td>0.416875</td>\n",
       "      <td>0.406205</td>\n",
       "      <td>0.758665</td>\n",
       "    </tr>\n",
       "    <tr>\n",
       "      <th>199997</th>\n",
       "      <td>499991</td>\n",
       "      <td>A</td>\n",
       "      <td>B</td>\n",
       "      <td>B</td>\n",
       "      <td>C</td>\n",
       "      <td>B</td>\n",
       "      <td>B</td>\n",
       "      <td>A</td>\n",
       "      <td>E</td>\n",
       "      <td>C</td>\n",
       "      <td>...</td>\n",
       "      <td>0.514487</td>\n",
       "      <td>0.060997</td>\n",
       "      <td>0.171741</td>\n",
       "      <td>0.317185</td>\n",
       "      <td>0.150340</td>\n",
       "      <td>0.122109</td>\n",
       "      <td>0.390524</td>\n",
       "      <td>0.334026</td>\n",
       "      <td>0.378987</td>\n",
       "      <td>0.839416</td>\n",
       "    </tr>\n",
       "    <tr>\n",
       "      <th>199998</th>\n",
       "      <td>499994</td>\n",
       "      <td>A</td>\n",
       "      <td>A</td>\n",
       "      <td>A</td>\n",
       "      <td>C</td>\n",
       "      <td>B</td>\n",
       "      <td>D</td>\n",
       "      <td>A</td>\n",
       "      <td>D</td>\n",
       "      <td>A</td>\n",
       "      <td>...</td>\n",
       "      <td>0.286144</td>\n",
       "      <td>1.061710</td>\n",
       "      <td>0.819811</td>\n",
       "      <td>0.901241</td>\n",
       "      <td>0.555339</td>\n",
       "      <td>0.844315</td>\n",
       "      <td>0.894193</td>\n",
       "      <td>0.794102</td>\n",
       "      <td>0.844279</td>\n",
       "      <td>0.890473</td>\n",
       "    </tr>\n",
       "    <tr>\n",
       "      <th>199999</th>\n",
       "      <td>499995</td>\n",
       "      <td>A</td>\n",
       "      <td>A</td>\n",
       "      <td>A</td>\n",
       "      <td>C</td>\n",
       "      <td>B</td>\n",
       "      <td>D</td>\n",
       "      <td>A</td>\n",
       "      <td>E</td>\n",
       "      <td>A</td>\n",
       "      <td>...</td>\n",
       "      <td>0.286755</td>\n",
       "      <td>1.065725</td>\n",
       "      <td>0.687682</td>\n",
       "      <td>0.654738</td>\n",
       "      <td>0.574575</td>\n",
       "      <td>0.617467</td>\n",
       "      <td>0.694336</td>\n",
       "      <td>0.745698</td>\n",
       "      <td>0.568525</td>\n",
       "      <td>0.783568</td>\n",
       "    </tr>\n",
       "  </tbody>\n",
       "</table>\n",
       "<p>200000 rows × 25 columns</p>\n",
       "</div>"
      ],
      "text/plain": [
       "            id cat0 cat1 cat2 cat3 cat4 cat5 cat6 cat7 cat8  ...     cont4  \\\n",
       "0            0    B    B    B    C    B    B    A    E    E  ...  0.476739   \n",
       "1            5    A    B    A    C    B    C    A    E    C  ...  0.285509   \n",
       "2           15    B    A    A    A    B    B    A    E    D  ...  0.697272   \n",
       "3           16    B    B    A    C    B    D    A    E    A  ...  0.719306   \n",
       "4           17    B    B    A    C    B    C    A    E    C  ...  0.313032   \n",
       "...        ...  ...  ...  ...  ...  ...  ...  ...  ...  ...  ...       ...   \n",
       "199995  499987    B    A    A    C    B    D    A    E    E  ...  0.287454   \n",
       "199996  499990    B    A    A    C    B    B    A    E    C  ...  0.794881   \n",
       "199997  499991    A    B    B    C    B    B    A    E    C  ...  0.514487   \n",
       "199998  499994    A    A    A    C    B    D    A    D    A  ...  0.286144   \n",
       "199999  499995    A    A    A    C    B    D    A    E    A  ...  0.286755   \n",
       "\n",
       "           cont5     cont6     cont7     cont8     cont9    cont10    cont11  \\\n",
       "0       0.376350  0.337884  0.321832  0.445212  0.290258  0.244476  0.087914   \n",
       "1       0.860046  0.798712  0.835961  0.391657  0.288276  0.549568  0.905097   \n",
       "2       0.683600  0.404089  0.879379  0.275549  0.427871  0.491667  0.384315   \n",
       "3       0.777890  0.730954  0.644315  1.024017  0.391090  0.988340  0.411828   \n",
       "4       0.431007  0.390992  0.408874  0.447887  0.390253  0.648932  0.385935   \n",
       "...          ...       ...       ...       ...       ...       ...       ...   \n",
       "199995  0.543800  0.682378  1.028978  1.022741  0.683903  0.877273  0.532410   \n",
       "199996  0.432778  0.389775  0.359871  0.550013  0.492082  0.202295  0.416875   \n",
       "199997  0.060997  0.171741  0.317185  0.150340  0.122109  0.390524  0.334026   \n",
       "199998  1.061710  0.819811  0.901241  0.555339  0.844315  0.894193  0.794102   \n",
       "199999  1.065725  0.687682  0.654738  0.574575  0.617467  0.694336  0.745698   \n",
       "\n",
       "          cont12    cont13  \n",
       "0       0.301831  0.845702  \n",
       "1       0.850684  0.693940  \n",
       "2       0.376689  0.508099  \n",
       "3       0.393585  0.461372  \n",
       "4       0.370401  0.900412  \n",
       "...          ...       ...  \n",
       "199995  0.605397  0.884581  \n",
       "199996  0.406205  0.758665  \n",
       "199997  0.378987  0.839416  \n",
       "199998  0.844279  0.890473  \n",
       "199999  0.568525  0.783568  \n",
       "\n",
       "[200000 rows x 25 columns]"
      ]
     },
     "execution_count": 49,
     "metadata": {},
     "output_type": "execute_result"
    }
   ],
   "source": [
    "test"
   ]
  },
  {
   "cell_type": "code",
   "execution_count": 50,
   "id": "aaff6c6b",
   "metadata": {
    "execution": {
     "iopub.execute_input": "2021-08-23T20:37:06.720627Z",
     "iopub.status.busy": "2021-08-23T20:37:06.720148Z",
     "iopub.status.idle": "2021-08-23T20:37:06.897173Z",
     "shell.execute_reply": "2021-08-23T20:37:06.896202Z",
     "shell.execute_reply.started": "2021-08-23T20:37:06.720586Z"
    },
    "papermill": {
     "duration": null,
     "end_time": null,
     "exception": null,
     "start_time": null,
     "status": "pending"
    },
    "tags": []
   },
   "outputs": [
    {
     "data": {
      "text/plain": [
       "id        0\n",
       "cat0      0\n",
       "cat1      0\n",
       "cat2      0\n",
       "cat3      0\n",
       "cat4      0\n",
       "cat5      0\n",
       "cat6      0\n",
       "cat7      0\n",
       "cat8      0\n",
       "cat9      0\n",
       "cont0     0\n",
       "cont1     0\n",
       "cont2     0\n",
       "cont3     0\n",
       "cont4     0\n",
       "cont5     0\n",
       "cont6     0\n",
       "cont7     0\n",
       "cont8     0\n",
       "cont9     0\n",
       "cont10    0\n",
       "cont11    0\n",
       "cont12    0\n",
       "cont13    0\n",
       "dtype: int64"
      ]
     },
     "execution_count": 50,
     "metadata": {},
     "output_type": "execute_result"
    }
   ],
   "source": [
    "test.isna().sum()"
   ]
  },
  {
   "cell_type": "code",
   "execution_count": 51,
   "id": "9edaf5af",
   "metadata": {
    "execution": {
     "iopub.execute_input": "2021-08-23T20:37:06.898800Z",
     "iopub.status.busy": "2021-08-23T20:37:06.898449Z",
     "iopub.status.idle": "2021-08-23T20:37:08.169196Z",
     "shell.execute_reply": "2021-08-23T20:37:08.168284Z",
     "shell.execute_reply.started": "2021-08-23T20:37:06.898763Z"
    },
    "papermill": {
     "duration": null,
     "end_time": null,
     "exception": null,
     "start_time": null,
     "status": "pending"
    },
    "tags": []
   },
   "outputs": [],
   "source": [
    "test[numeric_cols] = imputer.transform(test[numeric_cols])\n",
    "test[numeric_cols] = scaler.transform(test[numeric_cols])"
   ]
  },
  {
   "cell_type": "code",
   "execution_count": 52,
   "id": "bbbf9fd5",
   "metadata": {
    "execution": {
     "iopub.execute_input": "2021-08-23T20:37:08.171007Z",
     "iopub.status.busy": "2021-08-23T20:37:08.170466Z",
     "iopub.status.idle": "2021-08-23T20:37:21.107208Z",
     "shell.execute_reply": "2021-08-23T20:37:21.106289Z",
     "shell.execute_reply.started": "2021-08-23T20:37:08.170968Z"
    },
    "papermill": {
     "duration": null,
     "end_time": null,
     "exception": null,
     "start_time": null,
     "status": "pending"
    },
    "tags": []
   },
   "outputs": [],
   "source": [
    "test[encoded_cols] = encoder.transform(test[categorical_cols])\n",
    "test[encoded_cols] = encoder.transform(test[categorical_cols])"
   ]
  },
  {
   "cell_type": "code",
   "execution_count": 53,
   "id": "bccab919",
   "metadata": {
    "execution": {
     "iopub.execute_input": "2021-08-23T20:37:21.109034Z",
     "iopub.status.busy": "2021-08-23T20:37:21.108625Z",
     "iopub.status.idle": "2021-08-23T20:37:21.148511Z",
     "shell.execute_reply": "2021-08-23T20:37:21.147630Z",
     "shell.execute_reply.started": "2021-08-23T20:37:21.108983Z"
    },
    "papermill": {
     "duration": null,
     "end_time": null,
     "exception": null,
     "start_time": null,
     "status": "pending"
    },
    "tags": []
   },
   "outputs": [],
   "source": [
    "test_inputs = test[numeric_cols+encoded_cols]"
   ]
  },
  {
   "cell_type": "markdown",
   "id": "e5ccc009",
   "metadata": {
    "papermill": {
     "duration": null,
     "end_time": null,
     "exception": null,
     "start_time": null,
     "status": "pending"
    },
    "tags": []
   },
   "source": [
    "## Making Predictions\n",
    "\n",
    "Training a final model on the entire training set with custom hyperparameters. "
   ]
  },
  {
   "cell_type": "code",
   "execution_count": 54,
   "id": "864ed93a",
   "metadata": {
    "execution": {
     "iopub.execute_input": "2021-08-23T21:12:47.584461Z",
     "iopub.status.busy": "2021-08-23T21:12:47.584144Z",
     "iopub.status.idle": "2021-08-23T21:19:33.228440Z",
     "shell.execute_reply": "2021-08-23T21:19:33.227620Z",
     "shell.execute_reply.started": "2021-08-23T21:12:47.584433Z"
    },
    "papermill": {
     "duration": null,
     "end_time": null,
     "exception": null,
     "start_time": null,
     "status": "pending"
    },
    "tags": []
   },
   "outputs": [
    {
     "data": {
      "text/plain": [
       "XGBRegressor(base_score=0.5, booster='gbtree', colsample_bylevel=1,\n",
       "             colsample_bynode=1, colsample_bytree=0.5, gamma=0, gpu_id=-1,\n",
       "             importance_type='gain', interaction_constraints='',\n",
       "             learning_rate=0.14, max_delta_step=0, max_depth=3,\n",
       "             min_child_weight=1, missing=nan, monotone_constraints='()',\n",
       "             n_estimators=1370, n_jobs=4, num_parallel_tree=1, random_state=1,\n",
       "             reg_alpha=25.4, reg_lambda=1, scale_pos_weight=1, subsample=0.99,\n",
       "             tree_method='exact', validate_parameters=1, verbosity=None)"
      ]
     },
     "execution_count": 54,
     "metadata": {},
     "output_type": "execute_result"
    }
   ],
   "source": [
    "model.fit(train_inputs, train_targets )"
   ]
  },
  {
   "cell_type": "code",
   "execution_count": 55,
   "id": "fd1c56d4",
   "metadata": {
    "execution": {
     "iopub.execute_input": "2021-08-23T21:19:44.322533Z",
     "iopub.status.busy": "2021-08-23T21:19:44.322223Z",
     "iopub.status.idle": "2021-08-23T21:19:46.430650Z",
     "shell.execute_reply": "2021-08-23T21:19:46.429849Z",
     "shell.execute_reply.started": "2021-08-23T21:19:44.322506Z"
    },
    "papermill": {
     "duration": null,
     "end_time": null,
     "exception": null,
     "start_time": null,
     "status": "pending"
    },
    "tags": []
   },
   "outputs": [],
   "source": [
    "preds1 = model.predict(train_inputs)"
   ]
  },
  {
   "cell_type": "code",
   "execution_count": 56,
   "id": "c6acd17a",
   "metadata": {
    "execution": {
     "iopub.execute_input": "2021-08-23T21:19:49.140908Z",
     "iopub.status.busy": "2021-08-23T21:19:49.140594Z",
     "iopub.status.idle": "2021-08-23T21:19:49.151609Z",
     "shell.execute_reply": "2021-08-23T21:19:49.150291Z",
     "shell.execute_reply.started": "2021-08-23T21:19:49.140876Z"
    },
    "papermill": {
     "duration": null,
     "end_time": null,
     "exception": null,
     "start_time": null,
     "status": "pending"
    },
    "tags": []
   },
   "outputs": [
    {
     "data": {
      "text/plain": [
       "0.7031216052184318"
      ]
     },
     "execution_count": 56,
     "metadata": {},
     "output_type": "execute_result"
    }
   ],
   "source": [
    "rmse(preds1, train_targets)"
   ]
  },
  {
   "cell_type": "markdown",
   "id": "3a59b846",
   "metadata": {
    "papermill": {
     "duration": null,
     "end_time": null,
     "exception": null,
     "start_time": null,
     "status": "pending"
    },
    "tags": []
   },
   "source": [
    "Using the trained mode, we can make predictions on the test set."
   ]
  },
  {
   "cell_type": "code",
   "execution_count": 57,
   "id": "9ba7fadb",
   "metadata": {
    "execution": {
     "iopub.execute_input": "2021-08-23T21:19:55.582481Z",
     "iopub.status.busy": "2021-08-23T21:19:55.582175Z",
     "iopub.status.idle": "2021-08-23T21:19:57.465485Z",
     "shell.execute_reply": "2021-08-23T21:19:57.464771Z",
     "shell.execute_reply.started": "2021-08-23T21:19:55.582454Z"
    },
    "papermill": {
     "duration": null,
     "end_time": null,
     "exception": null,
     "start_time": null,
     "status": "pending"
    },
    "tags": []
   },
   "outputs": [],
   "source": [
    "test_preds = model.predict(test_inputs)"
   ]
  },
  {
   "cell_type": "code",
   "execution_count": 58,
   "id": "a31c9206",
   "metadata": {
    "execution": {
     "iopub.execute_input": "2021-08-23T21:20:05.660107Z",
     "iopub.status.busy": "2021-08-23T21:20:05.659682Z",
     "iopub.status.idle": "2021-08-23T21:20:05.672625Z",
     "shell.execute_reply": "2021-08-23T21:20:05.671797Z",
     "shell.execute_reply.started": "2021-08-23T21:20:05.660067Z"
    },
    "papermill": {
     "duration": null,
     "end_time": null,
     "exception": null,
     "start_time": null,
     "status": "pending"
    },
    "tags": []
   },
   "outputs": [
    {
     "data": {
      "text/plain": [
       "array([8.0682335, 8.393994 , 8.338336 , ..., 8.503282 , 8.17097  ,\n",
       "       7.993101 ], dtype=float32)"
      ]
     },
     "execution_count": 58,
     "metadata": {},
     "output_type": "execute_result"
    }
   ],
   "source": [
    "test_preds"
   ]
  },
  {
   "cell_type": "code",
   "execution_count": 59,
   "id": "1f084855",
   "metadata": {
    "execution": {
     "iopub.execute_input": "2021-08-23T21:20:12.958712Z",
     "iopub.status.busy": "2021-08-23T21:20:12.958409Z",
     "iopub.status.idle": "2021-08-23T21:20:13.001032Z",
     "shell.execute_reply": "2021-08-23T21:20:13.000196Z",
     "shell.execute_reply.started": "2021-08-23T21:20:12.958682Z"
    },
    "papermill": {
     "duration": null,
     "end_time": null,
     "exception": null,
     "start_time": null,
     "status": "pending"
    },
    "tags": []
   },
   "outputs": [],
   "source": [
    "submission_df = pd.read_csv('30-days-of-ml/sample_submission.csv')"
   ]
  },
  {
   "cell_type": "code",
   "execution_count": 60,
   "id": "ae577d90",
   "metadata": {
    "execution": {
     "iopub.execute_input": "2021-08-23T21:20:15.719790Z",
     "iopub.status.busy": "2021-08-23T21:20:15.719473Z",
     "iopub.status.idle": "2021-08-23T21:20:15.731302Z",
     "shell.execute_reply": "2021-08-23T21:20:15.730543Z",
     "shell.execute_reply.started": "2021-08-23T21:20:15.719762Z"
    },
    "papermill": {
     "duration": null,
     "end_time": null,
     "exception": null,
     "start_time": null,
     "status": "pending"
    },
    "tags": []
   },
   "outputs": [
    {
     "data": {
      "text/html": [
       "<div>\n",
       "<style scoped>\n",
       "    .dataframe tbody tr th:only-of-type {\n",
       "        vertical-align: middle;\n",
       "    }\n",
       "\n",
       "    .dataframe tbody tr th {\n",
       "        vertical-align: top;\n",
       "    }\n",
       "\n",
       "    .dataframe thead th {\n",
       "        text-align: right;\n",
       "    }\n",
       "</style>\n",
       "<table border=\"1\" class=\"dataframe\">\n",
       "  <thead>\n",
       "    <tr style=\"text-align: right;\">\n",
       "      <th></th>\n",
       "      <th>id</th>\n",
       "      <th>target</th>\n",
       "    </tr>\n",
       "  </thead>\n",
       "  <tbody>\n",
       "    <tr>\n",
       "      <th>0</th>\n",
       "      <td>0</td>\n",
       "      <td>0.5</td>\n",
       "    </tr>\n",
       "    <tr>\n",
       "      <th>1</th>\n",
       "      <td>5</td>\n",
       "      <td>0.5</td>\n",
       "    </tr>\n",
       "    <tr>\n",
       "      <th>2</th>\n",
       "      <td>15</td>\n",
       "      <td>0.5</td>\n",
       "    </tr>\n",
       "    <tr>\n",
       "      <th>3</th>\n",
       "      <td>16</td>\n",
       "      <td>0.5</td>\n",
       "    </tr>\n",
       "    <tr>\n",
       "      <th>4</th>\n",
       "      <td>17</td>\n",
       "      <td>0.5</td>\n",
       "    </tr>\n",
       "    <tr>\n",
       "      <th>...</th>\n",
       "      <td>...</td>\n",
       "      <td>...</td>\n",
       "    </tr>\n",
       "    <tr>\n",
       "      <th>199995</th>\n",
       "      <td>499987</td>\n",
       "      <td>0.5</td>\n",
       "    </tr>\n",
       "    <tr>\n",
       "      <th>199996</th>\n",
       "      <td>499990</td>\n",
       "      <td>0.5</td>\n",
       "    </tr>\n",
       "    <tr>\n",
       "      <th>199997</th>\n",
       "      <td>499991</td>\n",
       "      <td>0.5</td>\n",
       "    </tr>\n",
       "    <tr>\n",
       "      <th>199998</th>\n",
       "      <td>499994</td>\n",
       "      <td>0.5</td>\n",
       "    </tr>\n",
       "    <tr>\n",
       "      <th>199999</th>\n",
       "      <td>499995</td>\n",
       "      <td>0.5</td>\n",
       "    </tr>\n",
       "  </tbody>\n",
       "</table>\n",
       "<p>200000 rows × 2 columns</p>\n",
       "</div>"
      ],
      "text/plain": [
       "            id  target\n",
       "0            0     0.5\n",
       "1            5     0.5\n",
       "2           15     0.5\n",
       "3           16     0.5\n",
       "4           17     0.5\n",
       "...        ...     ...\n",
       "199995  499987     0.5\n",
       "199996  499990     0.5\n",
       "199997  499991     0.5\n",
       "199998  499994     0.5\n",
       "199999  499995     0.5\n",
       "\n",
       "[200000 rows x 2 columns]"
      ]
     },
     "execution_count": 60,
     "metadata": {},
     "output_type": "execute_result"
    }
   ],
   "source": [
    "submission_df"
   ]
  },
  {
   "cell_type": "code",
   "execution_count": 61,
   "id": "ebfd511f",
   "metadata": {
    "execution": {
     "iopub.execute_input": "2021-08-23T21:20:23.536817Z",
     "iopub.status.busy": "2021-08-23T21:20:23.536488Z",
     "iopub.status.idle": "2021-08-23T21:20:23.541656Z",
     "shell.execute_reply": "2021-08-23T21:20:23.540834Z",
     "shell.execute_reply.started": "2021-08-23T21:20:23.536786Z"
    },
    "papermill": {
     "duration": null,
     "end_time": null,
     "exception": null,
     "start_time": null,
     "status": "pending"
    },
    "tags": []
   },
   "outputs": [],
   "source": [
    "submission_df['target']  = test_preds"
   ]
  },
  {
   "cell_type": "code",
   "execution_count": 62,
   "id": "21c19621",
   "metadata": {
    "execution": {
     "iopub.execute_input": "2021-08-23T21:20:26.569985Z",
     "iopub.status.busy": "2021-08-23T21:20:26.569636Z",
     "iopub.status.idle": "2021-08-23T21:20:27.060186Z",
     "shell.execute_reply": "2021-08-23T21:20:27.059278Z",
     "shell.execute_reply.started": "2021-08-23T21:20:26.569947Z"
    },
    "papermill": {
     "duration": null,
     "end_time": null,
     "exception": null,
     "start_time": null,
     "status": "pending"
    },
    "tags": []
   },
   "outputs": [],
   "source": [
    "submission_df.to_csv('submission.csv', index=None)"
   ]
  },
  {
   "cell_type": "code",
   "execution_count": 63,
   "id": "e2443b51",
   "metadata": {
    "execution": {
     "iopub.execute_input": "2021-08-23T21:20:29.480730Z",
     "iopub.status.busy": "2021-08-23T21:20:29.480419Z",
     "iopub.status.idle": "2021-08-23T21:20:29.488806Z",
     "shell.execute_reply": "2021-08-23T21:20:29.487883Z",
     "shell.execute_reply.started": "2021-08-23T21:20:29.480700Z"
    },
    "papermill": {
     "duration": null,
     "end_time": null,
     "exception": null,
     "start_time": null,
     "status": "pending"
    },
    "tags": []
   },
   "outputs": [
    {
     "data": {
      "text/html": [
       "<a href='submission.csv' target='_blank'>submission.csv</a><br>"
      ],
      "text/plain": [
       "C:\\Users\\Telvin\\submission.csv"
      ]
     },
     "execution_count": 63,
     "metadata": {},
     "output_type": "execute_result"
    }
   ],
   "source": [
    "from IPython.display import FileLink\n",
    "FileLink('submission.csv') "
   ]
  },
  {
   "cell_type": "markdown",
   "id": "7b13cc11",
   "metadata": {
    "papermill": {
     "duration": null,
     "end_time": null,
     "exception": null,
     "start_time": null,
     "status": "pending"
    },
    "tags": []
   },
   "source": [
    "Data Soures"
   ]
  },
  {
   "cell_type": "markdown",
   "id": "3cced688",
   "metadata": {
    "papermill": {
     "duration": null,
     "end_time": null,
     "exception": null,
     "start_time": null,
     "status": "pending"
    },
    "tags": []
   },
   "source": [
    "[1] https://www.kaggle.com/c/30-days-of-ml/data"
   ]
  },
  {
   "cell_type": "code",
   "execution_count": null,
   "id": "b0406628",
   "metadata": {
    "papermill": {
     "duration": null,
     "end_time": null,
     "exception": null,
     "start_time": null,
     "status": "pending"
    },
    "tags": []
   },
   "outputs": [],
   "source": []
  }
 ],
 "metadata": {
  "kernelspec": {
   "display_name": "Python 3",
   "language": "python",
   "name": "python3"
  },
  "language_info": {
   "codemirror_mode": {
    "name": "ipython",
    "version": 3
   },
   "file_extension": ".py",
   "mimetype": "text/x-python",
   "name": "python",
   "nbconvert_exporter": "python",
   "pygments_lexer": "ipython3",
   "version": "3.8.8"
  },
  "papermill": {
   "default_parameters": {},
   "duration": 15.225343,
   "end_time": "2021-08-23T21:23:55.914150",
   "environment_variables": {},
   "exception": true,
   "input_path": "__notebook__.ipynb",
   "output_path": "__notebook__.ipynb",
   "parameters": {},
   "start_time": "2021-08-23T21:23:40.688807",
   "version": "2.3.3"
  }
 },
 "nbformat": 4,
 "nbformat_minor": 5
}
